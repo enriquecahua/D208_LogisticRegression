{
 "cells": [
  {
   "cell_type": "code",
   "execution_count": 1,
   "metadata": {},
   "outputs": [],
   "source": [
    "import pandas as pd\n",
    "import numpy as np\n",
    "import scipy\n",
    "import matplotlib\n",
    "from scipy import stats\n",
    "import matplotlib.pyplot as plt\n",
    "import seaborn as sns\n",
    "import statsmodels.api as sm\n",
    "from statsmodels.api import qqplot\n",
    "from sklearn.preprocessing import OneHotEncoder\n",
    "from sklearn.linear_model import LogisticRegression\n",
    "from sklearn.model_selection import train_test_split\n"
   ]
  },
  {
   "cell_type": "code",
   "execution_count": 2,
   "metadata": {},
   "outputs": [
    {
     "name": "stdout",
     "output_type": "stream",
     "text": [
      "pandas version 1.0.5\n",
      "numpy version 1.18.5\n",
      "scipy version 1.5.0\n",
      "matplotlib version 3.2.2\n",
      "seaborn version 0.10.1\n",
      "statsmodels version 0.11.1\n"
     ]
    }
   ],
   "source": [
    "print(\"pandas version \" + pd.__version__)\n",
    "print(\"numpy version \" + np.__version__)\n",
    "print(\"scipy version \" + scipy.__version__)\n",
    "print(\"matplotlib version \" + matplotlib.__version__)\n",
    "print(\"seaborn version \" + sns.__version__)\n",
    "print(\"statsmodels version \" + sm.__version__)"
   ]
  },
  {
   "cell_type": "code",
   "execution_count": 3,
   "metadata": {},
   "outputs": [],
   "source": [
    "df = pd.read_csv(r\"medical_clean.csv\")"
   ]
  },
  {
   "cell_type": "code",
   "execution_count": 4,
   "metadata": {},
   "outputs": [],
   "source": [
    "#pd.options.display.float_format = '{:,.6f}'.format\n",
    "pd.set_option('display.max_columns', None) #show all columns"
   ]
  },
  {
   "cell_type": "code",
   "execution_count": 5,
   "metadata": {},
   "outputs": [],
   "source": [
    "#df.describe()"
   ]
  },
  {
   "cell_type": "code",
   "execution_count": 6,
   "metadata": {},
   "outputs": [],
   "source": [
    "df.rename(columns={df.columns[0]: \"Original_order\"}, inplace=True)"
   ]
  },
  {
   "cell_type": "code",
   "execution_count": 7,
   "metadata": {},
   "outputs": [
    {
     "data": {
      "text/plain": [
       "Index(['Original_order', 'Customer_id', 'Interaction', 'UID', 'City', 'State',\n",
       "       'County', 'Zip', 'Lat', 'Lng', 'Population', 'Area', 'TimeZone', 'Job',\n",
       "       'Children', 'Age', 'Income', 'Marital', 'Gender', 'ReAdmis',\n",
       "       'VitD_levels', 'Doc_visits', 'Full_meals_eaten', 'vitD_supp',\n",
       "       'Soft_drink', 'Initial_admin', 'HighBlood', 'Stroke',\n",
       "       'Complication_risk', 'Overweight', 'Arthritis', 'Diabetes',\n",
       "       'Hyperlipidemia', 'BackPain', 'Anxiety', 'Allergic_rhinitis',\n",
       "       'Reflux_esophagitis', 'Asthma', 'Services', 'Initial_days',\n",
       "       'TotalCharge', 'Additional_charges', 'Item1', 'Item2', 'Item3', 'Item4',\n",
       "       'Item5', 'Item6', 'Item7', 'Item8'],\n",
       "      dtype='object')"
      ]
     },
     "execution_count": 7,
     "metadata": {},
     "output_type": "execute_result"
    }
   ],
   "source": [
    "df.columns"
   ]
  },
  {
   "cell_type": "code",
   "execution_count": 8,
   "metadata": {},
   "outputs": [
    {
     "data": {
      "text/plain": [
       "No     6331\n",
       "Yes    3669\n",
       "Name: ReAdmis, dtype: int64"
      ]
     },
     "execution_count": 8,
     "metadata": {},
     "output_type": "execute_result"
    }
   ],
   "source": [
    "df['ReAdmis'].value_counts()"
   ]
  },
  {
   "cell_type": "code",
   "execution_count": 9,
   "metadata": {},
   "outputs": [],
   "source": [
    "cleanup_ed = {'No Schooling Completed': 0,\n",
    "             'Nursery School to 8th Grade': 1,\n",
    "              '9th Grade to 12th Grade, No Diploma': 9,\n",
    "              'Some College, Less than 1 Year': 12,\n",
    "              'GED or Alternative Credential': 12,\n",
    "              'Regular High School Diploma': 12,\n",
    "              'Professional School Degree': 12,\n",
    "              'Some College, 1 or More Years, No Degree':13,\n",
    "              'Associate\\'s Degree': 14,\n",
    "              'Bachelor\\'s Degree': 16,\n",
    "              'Master\\'s Degree': 18,            \n",
    "              'Doctorate Degree': 20\n",
    "             }"
   ]
  },
  {
   "cell_type": "code",
   "execution_count": 10,
   "metadata": {},
   "outputs": [],
   "source": [
    "df.replace(cleanup_ed, inplace=True)"
   ]
  },
  {
   "cell_type": "code",
   "execution_count": 11,
   "metadata": {},
   "outputs": [
    {
     "data": {
      "text/plain": [
       "(10000, 50)"
      ]
     },
     "execution_count": 11,
     "metadata": {},
     "output_type": "execute_result"
    }
   ],
   "source": [
    "df.shape"
   ]
  },
  {
   "cell_type": "code",
   "execution_count": 12,
   "metadata": {},
   "outputs": [
    {
     "data": {
      "text/plain": [
       "Original_order        False\n",
       "Customer_id           False\n",
       "Interaction           False\n",
       "UID                   False\n",
       "City                  False\n",
       "State                 False\n",
       "County                False\n",
       "Zip                   False\n",
       "Lat                   False\n",
       "Lng                   False\n",
       "Population            False\n",
       "Area                  False\n",
       "TimeZone              False\n",
       "Job                   False\n",
       "Children              False\n",
       "Age                   False\n",
       "Income                False\n",
       "Marital               False\n",
       "Gender                False\n",
       "ReAdmis               False\n",
       "VitD_levels           False\n",
       "Doc_visits            False\n",
       "Full_meals_eaten      False\n",
       "vitD_supp             False\n",
       "Soft_drink            False\n",
       "Initial_admin         False\n",
       "HighBlood             False\n",
       "Stroke                False\n",
       "Complication_risk     False\n",
       "Overweight            False\n",
       "Arthritis             False\n",
       "Diabetes              False\n",
       "Hyperlipidemia        False\n",
       "BackPain              False\n",
       "Anxiety               False\n",
       "Allergic_rhinitis     False\n",
       "Reflux_esophagitis    False\n",
       "Asthma                False\n",
       "Services              False\n",
       "Initial_days          False\n",
       "TotalCharge           False\n",
       "Additional_charges    False\n",
       "Item1                 False\n",
       "Item2                 False\n",
       "Item3                 False\n",
       "Item4                 False\n",
       "Item5                 False\n",
       "Item6                 False\n",
       "Item7                 False\n",
       "Item8                 False\n",
       "dtype: bool"
      ]
     },
     "execution_count": 12,
     "metadata": {},
     "output_type": "execute_result"
    }
   ],
   "source": [
    "df.isna().any()"
   ]
  },
  {
   "cell_type": "code",
   "execution_count": 13,
   "metadata": {},
   "outputs": [
    {
     "name": "stdout",
     "output_type": "stream",
     "text": [
      "122814\n"
     ]
    }
   ],
   "source": [
    "print(df.Population.max())"
   ]
  },
  {
   "cell_type": "code",
   "execution_count": 14,
   "metadata": {},
   "outputs": [],
   "source": [
    "#pop = pd.qcut(df['Population'], q=4)\n",
    "#print(type(pop))\n",
    "#print(len(pop))"
   ]
  },
  {
   "cell_type": "code",
   "execution_count": 15,
   "metadata": {},
   "outputs": [],
   "source": [
    "#df.drop(labels='Population', axis=\"columns\", inplace=True)\n",
    "#df = df.assign(Population = pop.values)"
   ]
  },
  {
   "cell_type": "code",
   "execution_count": 16,
   "metadata": {},
   "outputs": [],
   "source": [
    "#pd.unique(df.Population)"
   ]
  },
  {
   "cell_type": "code",
   "execution_count": 17,
   "metadata": {},
   "outputs": [],
   "source": [
    "# numeric_data = df.select_dtypes(include=np.number)\n",
    "# numeric_data = numeric_data.drop(['Original_order','Zip','Lat','Lng',vitD_supp'], axis=1)"
   ]
  },
  {
   "cell_type": "code",
   "execution_count": 18,
   "metadata": {},
   "outputs": [
    {
     "data": {
      "text/plain": [
       "<matplotlib.axes._subplots.AxesSubplot at 0x1d7c8a07f70>"
      ]
     },
     "execution_count": 18,
     "metadata": {},
     "output_type": "execute_result"
    },
    {
     "data": {
      "image/png": "[encoded data removed]",
      "text/plain": [
       "<Figure size 432x288 with 2 Axes>"
      ]
     },
     "metadata": {
      "needs_background": "light"
     },
     "output_type": "display_data"
    }
   ],
   "source": [
    "sns.heatmap(df.isnull())"
   ]
  },
  {
   "cell_type": "code",
   "execution_count": 19,
   "metadata": {},
   "outputs": [
    {
     "data": {
      "text/plain": [
       "False    10000\n",
       "Name: Children, dtype: int64"
      ]
     },
     "execution_count": 19,
     "metadata": {},
     "output_type": "execute_result"
    }
   ],
   "source": [
    "df['Children'].isnull().value_counts()"
   ]
  },
  {
   "cell_type": "code",
   "execution_count": 20,
   "metadata": {},
   "outputs": [
    {
     "data": {
      "text/plain": [
       "False    10000\n",
       "Name: Age, dtype: int64"
      ]
     },
     "execution_count": 20,
     "metadata": {},
     "output_type": "execute_result"
    }
   ],
   "source": [
    "df['Age'].isnull().value_counts()"
   ]
  },
  {
   "cell_type": "code",
   "execution_count": 21,
   "metadata": {},
   "outputs": [
    {
     "data": {
      "text/plain": [
       "False    10000\n",
       "Name: Income, dtype: int64"
      ]
     },
     "execution_count": 21,
     "metadata": {},
     "output_type": "execute_result"
    }
   ],
   "source": [
    "df['Income'].isnull().value_counts()"
   ]
  },
  {
   "cell_type": "code",
   "execution_count": 22,
   "metadata": {},
   "outputs": [
    {
     "data": {
      "text/plain": [
       "False    10000\n",
       "Name: Soft_drink, dtype: int64"
      ]
     },
     "execution_count": 22,
     "metadata": {},
     "output_type": "execute_result"
    }
   ],
   "source": [
    "df['Soft_drink'].isnull().value_counts()"
   ]
  },
  {
   "cell_type": "code",
   "execution_count": 23,
   "metadata": {},
   "outputs": [
    {
     "data": {
      "text/plain": [
       "False    10000\n",
       "Name: Overweight, dtype: int64"
      ]
     },
     "execution_count": 23,
     "metadata": {},
     "output_type": "execute_result"
    }
   ],
   "source": [
    "df['Overweight'].isnull().value_counts()"
   ]
  },
  {
   "cell_type": "code",
   "execution_count": 24,
   "metadata": {},
   "outputs": [
    {
     "data": {
      "text/plain": [
       "False    10000\n",
       "Name: Anxiety, dtype: int64"
      ]
     },
     "execution_count": 24,
     "metadata": {},
     "output_type": "execute_result"
    }
   ],
   "source": [
    "df['Anxiety'].isnull().value_counts()"
   ]
  },
  {
   "cell_type": "code",
   "execution_count": 25,
   "metadata": {},
   "outputs": [
    {
     "data": {
      "text/plain": [
       "False    10000\n",
       "Name: ReAdmis, dtype: int64"
      ]
     },
     "execution_count": 25,
     "metadata": {},
     "output_type": "execute_result"
    }
   ],
   "source": [
    "df['ReAdmis'].isnull().value_counts()"
   ]
  },
  {
   "cell_type": "code",
   "execution_count": 26,
   "metadata": {},
   "outputs": [
    {
     "data": {
      "text/plain": [
       "Female       5018\n",
       "Male         4768\n",
       "Nonbinary     214\n",
       "Name: Gender, dtype: int64"
      ]
     },
     "execution_count": 26,
     "metadata": {},
     "output_type": "execute_result"
    }
   ],
   "source": [
    "df['Gender'].value_counts()"
   ]
  },
  {
   "cell_type": "code",
   "execution_count": 27,
   "metadata": {},
   "outputs": [
    {
     "data": {
      "text/plain": [
       "array([118, 100,  93,  88,  80,  78,  69,  62,  60,  59,  58,  57,  55,\n",
       "        54,  48,  46,  44,  43,  42,  41,  39,  38,  37,  36,  34,  33,\n",
       "        32,  31,  30,  29,  27,  26,  25,  24,  23,  22,  21,  20,  19,\n",
       "        18,  17,  16,  15,  14,  13,  12,  11,  10,   9,   8,   7,   6,\n",
       "         5,   4,   3,   2,   1], dtype=int64)"
      ]
     },
     "execution_count": 27,
     "metadata": {},
     "output_type": "execute_result"
    }
   ],
   "source": [
    "pd.unique(df['County'].value_counts())"
   ]
  },
  {
   "cell_type": "code",
   "execution_count": 28,
   "metadata": {},
   "outputs": [
    {
     "data": {
      "text/plain": [
       "array([29, 27, 26, 25, 24, 23, 22, 21, 20, 19, 18, 17, 16, 15, 14, 13, 12,\n",
       "       11, 10,  9,  8,  7,  6], dtype=int64)"
      ]
     },
     "execution_count": 28,
     "metadata": {},
     "output_type": "execute_result"
    }
   ],
   "source": [
    "pd.unique(df['Job'].value_counts())"
   ]
  },
  {
   "cell_type": "code",
   "execution_count": 29,
   "metadata": {},
   "outputs": [],
   "source": [
    "#df['readmission'] = pd.Series(np.where(df.ReAdmis.values == 'Yes', 1, 0),\n",
    "#          df.index)"
   ]
  },
  {
   "cell_type": "code",
   "execution_count": 30,
   "metadata": {},
   "outputs": [
    {
     "name": "stdout",
     "output_type": "stream",
     "text": [
      "8612\n"
     ]
    }
   ],
   "source": [
    "n = len(pd.unique(df['Zip'])) \n",
    "print(n)"
   ]
  },
  {
   "cell_type": "code",
   "execution_count": 31,
   "metadata": {},
   "outputs": [
    {
     "name": "stdout",
     "output_type": "stream",
     "text": [
      "6072\n"
     ]
    }
   ],
   "source": [
    "n = len(pd.unique(df['City'])) \n",
    "print(n)"
   ]
  },
  {
   "cell_type": "code",
   "execution_count": null,
   "metadata": {},
   "outputs": [],
   "source": []
  },
  {
   "cell_type": "code",
   "execution_count": 32,
   "metadata": {},
   "outputs": [],
   "source": [
    "categorical_data = df.select_dtypes(exclude=np.number)"
   ]
  },
  {
   "cell_type": "code",
   "execution_count": 33,
   "metadata": {},
   "outputs": [
    {
     "data": {
      "text/plain": [
       "(10000, 27)"
      ]
     },
     "execution_count": 33,
     "metadata": {},
     "output_type": "execute_result"
    }
   ],
   "source": [
    "categorical_data.shape"
   ]
  },
  {
   "cell_type": "code",
   "execution_count": 34,
   "metadata": {},
   "outputs": [],
   "source": [
    "numerical_data = df.select_dtypes(include=np.number)"
   ]
  },
  {
   "cell_type": "code",
   "execution_count": 35,
   "metadata": {},
   "outputs": [
    {
     "data": {
      "text/plain": [
       "Index(['Customer_id', 'Interaction', 'UID', 'City', 'State', 'County', 'Area',\n",
       "       'TimeZone', 'Job', 'Marital', 'Gender', 'ReAdmis', 'Soft_drink',\n",
       "       'Initial_admin', 'HighBlood', 'Stroke', 'Complication_risk',\n",
       "       'Overweight', 'Arthritis', 'Diabetes', 'Hyperlipidemia', 'BackPain',\n",
       "       'Anxiety', 'Allergic_rhinitis', 'Reflux_esophagitis', 'Asthma',\n",
       "       'Services'],\n",
       "      dtype='object')"
      ]
     },
     "execution_count": 35,
     "metadata": {},
     "output_type": "execute_result"
    }
   ],
   "source": [
    "categorical_data.columns"
   ]
  },
  {
   "cell_type": "code",
   "execution_count": 36,
   "metadata": {},
   "outputs": [
    {
     "data": {
      "text/plain": [
       "Index(['Original_order', 'Zip', 'Lat', 'Lng', 'Population', 'Children', 'Age',\n",
       "       'Income', 'VitD_levels', 'Doc_visits', 'Full_meals_eaten', 'vitD_supp',\n",
       "       'Initial_days', 'TotalCharge', 'Additional_charges', 'Item1', 'Item2',\n",
       "       'Item3', 'Item4', 'Item5', 'Item6', 'Item7', 'Item8'],\n",
       "      dtype='object')"
      ]
     },
     "execution_count": 36,
     "metadata": {},
     "output_type": "execute_result"
    }
   ],
   "source": [
    "numerical_data.columns"
   ]
  },
  {
   "cell_type": "code",
   "execution_count": 37,
   "metadata": {},
   "outputs": [],
   "source": [
    "#categorical_data.head(5)"
   ]
  },
  {
   "cell_type": "code",
   "execution_count": 38,
   "metadata": {},
   "outputs": [
    {
     "data": {
      "text/html": [
       "<div>\n",
       "<style scoped>\n",
       "    .dataframe tbody tr th:only-of-type {\n",
       "        vertical-align: middle;\n",
       "    }\n",
       "\n",
       "    .dataframe tbody tr th {\n",
       "        vertical-align: top;\n",
       "    }\n",
       "\n",
       "    .dataframe thead th {\n",
       "        text-align: right;\n",
       "    }\n",
       "</style>\n",
       "<table border=\"1\" class=\"dataframe\">\n",
       "  <thead>\n",
       "    <tr style=\"text-align: right;\">\n",
       "      <th></th>\n",
       "      <th>Original_order</th>\n",
       "      <th>Zip</th>\n",
       "      <th>Lat</th>\n",
       "      <th>Lng</th>\n",
       "      <th>Population</th>\n",
       "      <th>Children</th>\n",
       "      <th>Age</th>\n",
       "      <th>Income</th>\n",
       "      <th>VitD_levels</th>\n",
       "      <th>Doc_visits</th>\n",
       "      <th>Full_meals_eaten</th>\n",
       "      <th>vitD_supp</th>\n",
       "      <th>Initial_days</th>\n",
       "      <th>TotalCharge</th>\n",
       "      <th>Additional_charges</th>\n",
       "      <th>Item1</th>\n",
       "      <th>Item2</th>\n",
       "      <th>Item3</th>\n",
       "      <th>Item4</th>\n",
       "      <th>Item5</th>\n",
       "      <th>Item6</th>\n",
       "      <th>Item7</th>\n",
       "      <th>Item8</th>\n",
       "    </tr>\n",
       "  </thead>\n",
       "  <tbody>\n",
       "    <tr>\n",
       "      <th>0</th>\n",
       "      <td>1</td>\n",
       "      <td>35621</td>\n",
       "      <td>34.34960</td>\n",
       "      <td>-86.72508</td>\n",
       "      <td>2951</td>\n",
       "      <td>1</td>\n",
       "      <td>53</td>\n",
       "      <td>86575.93</td>\n",
       "      <td>19.141466</td>\n",
       "      <td>6</td>\n",
       "      <td>0</td>\n",
       "      <td>0</td>\n",
       "      <td>10.585770</td>\n",
       "      <td>3726.702860</td>\n",
       "      <td>17939.403420</td>\n",
       "      <td>3</td>\n",
       "      <td>3</td>\n",
       "      <td>2</td>\n",
       "      <td>2</td>\n",
       "      <td>4</td>\n",
       "      <td>3</td>\n",
       "      <td>3</td>\n",
       "      <td>4</td>\n",
       "    </tr>\n",
       "    <tr>\n",
       "      <th>1</th>\n",
       "      <td>2</td>\n",
       "      <td>32446</td>\n",
       "      <td>30.84513</td>\n",
       "      <td>-85.22907</td>\n",
       "      <td>11303</td>\n",
       "      <td>3</td>\n",
       "      <td>51</td>\n",
       "      <td>46805.99</td>\n",
       "      <td>18.940352</td>\n",
       "      <td>4</td>\n",
       "      <td>2</td>\n",
       "      <td>1</td>\n",
       "      <td>15.129562</td>\n",
       "      <td>4193.190458</td>\n",
       "      <td>17612.998120</td>\n",
       "      <td>3</td>\n",
       "      <td>4</td>\n",
       "      <td>3</td>\n",
       "      <td>4</td>\n",
       "      <td>4</td>\n",
       "      <td>4</td>\n",
       "      <td>3</td>\n",
       "      <td>3</td>\n",
       "    </tr>\n",
       "    <tr>\n",
       "      <th>2</th>\n",
       "      <td>3</td>\n",
       "      <td>57110</td>\n",
       "      <td>43.54321</td>\n",
       "      <td>-96.63772</td>\n",
       "      <td>17125</td>\n",
       "      <td>3</td>\n",
       "      <td>53</td>\n",
       "      <td>14370.14</td>\n",
       "      <td>18.057507</td>\n",
       "      <td>4</td>\n",
       "      <td>1</td>\n",
       "      <td>0</td>\n",
       "      <td>4.772177</td>\n",
       "      <td>2434.234222</td>\n",
       "      <td>17505.192460</td>\n",
       "      <td>2</td>\n",
       "      <td>4</td>\n",
       "      <td>4</td>\n",
       "      <td>4</td>\n",
       "      <td>3</td>\n",
       "      <td>4</td>\n",
       "      <td>3</td>\n",
       "      <td>3</td>\n",
       "    </tr>\n",
       "    <tr>\n",
       "      <th>3</th>\n",
       "      <td>4</td>\n",
       "      <td>56072</td>\n",
       "      <td>43.89744</td>\n",
       "      <td>-93.51479</td>\n",
       "      <td>2162</td>\n",
       "      <td>0</td>\n",
       "      <td>78</td>\n",
       "      <td>39741.49</td>\n",
       "      <td>16.576858</td>\n",
       "      <td>4</td>\n",
       "      <td>1</td>\n",
       "      <td>0</td>\n",
       "      <td>1.714879</td>\n",
       "      <td>2127.830423</td>\n",
       "      <td>12993.437350</td>\n",
       "      <td>3</td>\n",
       "      <td>5</td>\n",
       "      <td>5</td>\n",
       "      <td>3</td>\n",
       "      <td>4</td>\n",
       "      <td>5</td>\n",
       "      <td>5</td>\n",
       "      <td>5</td>\n",
       "    </tr>\n",
       "    <tr>\n",
       "      <th>4</th>\n",
       "      <td>5</td>\n",
       "      <td>23181</td>\n",
       "      <td>37.59894</td>\n",
       "      <td>-76.88958</td>\n",
       "      <td>5287</td>\n",
       "      <td>1</td>\n",
       "      <td>22</td>\n",
       "      <td>1209.56</td>\n",
       "      <td>17.439069</td>\n",
       "      <td>5</td>\n",
       "      <td>0</td>\n",
       "      <td>2</td>\n",
       "      <td>1.254807</td>\n",
       "      <td>2113.073274</td>\n",
       "      <td>3716.525786</td>\n",
       "      <td>2</td>\n",
       "      <td>1</td>\n",
       "      <td>3</td>\n",
       "      <td>3</td>\n",
       "      <td>5</td>\n",
       "      <td>3</td>\n",
       "      <td>4</td>\n",
       "      <td>3</td>\n",
       "    </tr>\n",
       "  </tbody>\n",
       "</table>\n",
       "</div>"
      ],
      "text/plain": [
       "   Original_order    Zip       Lat       Lng  Population  Children  Age  \\\n",
       "0               1  35621  34.34960 -86.72508        2951         1   53   \n",
       "1               2  32446  30.84513 -85.22907       11303         3   51   \n",
       "2               3  57110  43.54321 -96.63772       17125         3   53   \n",
       "3               4  56072  43.89744 -93.51479        2162         0   78   \n",
       "4               5  23181  37.59894 -76.88958        5287         1   22   \n",
       "\n",
       "     Income  VitD_levels  Doc_visits  Full_meals_eaten  vitD_supp  \\\n",
       "0  86575.93    19.141466           6                 0          0   \n",
       "1  46805.99    18.940352           4                 2          1   \n",
       "2  14370.14    18.057507           4                 1          0   \n",
       "3  39741.49    16.576858           4                 1          0   \n",
       "4   1209.56    17.439069           5                 0          2   \n",
       "\n",
       "   Initial_days  TotalCharge  Additional_charges  Item1  Item2  Item3  Item4  \\\n",
       "0     10.585770  3726.702860        17939.403420      3      3      2      2   \n",
       "1     15.129562  4193.190458        17612.998120      3      4      3      4   \n",
       "2      4.772177  2434.234222        17505.192460      2      4      4      4   \n",
       "3      1.714879  2127.830423        12993.437350      3      5      5      3   \n",
       "4      1.254807  2113.073274         3716.525786      2      1      3      3   \n",
       "\n",
       "   Item5  Item6  Item7  Item8  \n",
       "0      4      3      3      4  \n",
       "1      4      4      3      3  \n",
       "2      3      4      3      3  \n",
       "3      4      5      5      5  \n",
       "4      5      3      4      3  "
      ]
     },
     "execution_count": 38,
     "metadata": {},
     "output_type": "execute_result"
    }
   ],
   "source": [
    "numerical_data.head(5)"
   ]
  },
  {
   "cell_type": "code",
   "execution_count": 39,
   "metadata": {},
   "outputs": [
    {
     "data": {
      "text/plain": [
       "array([[<matplotlib.axes._subplots.AxesSubplot object at 0x000001D7C899A3D0>,\n",
       "        <matplotlib.axes._subplots.AxesSubplot object at 0x000001D7C89D24F0>,\n",
       "        <matplotlib.axes._subplots.AxesSubplot object at 0x000001D7C9E5F970>,\n",
       "        <matplotlib.axes._subplots.AxesSubplot object at 0x000001D7C9E8EDC0>,\n",
       "        <matplotlib.axes._subplots.AxesSubplot object at 0x000001D7C9EC7250>],\n",
       "       [<matplotlib.axes._subplots.AxesSubplot object at 0x000001D7C9EF35E0>,\n",
       "        <matplotlib.axes._subplots.AxesSubplot object at 0x000001D7C9EF36D0>,\n",
       "        <matplotlib.axes._subplots.AxesSubplot object at 0x000001D7C9F20BE0>,\n",
       "        <matplotlib.axes._subplots.AxesSubplot object at 0x000001D7C9F87430>,\n",
       "        <matplotlib.axes._subplots.AxesSubplot object at 0x000001D7C9FB2880>],\n",
       "       [<matplotlib.axes._subplots.AxesSubplot object at 0x000001D7C9FDED30>,\n",
       "        <matplotlib.axes._subplots.AxesSubplot object at 0x000001D7CA0171C0>,\n",
       "        <matplotlib.axes._subplots.AxesSubplot object at 0x000001D7CA046610>,\n",
       "        <matplotlib.axes._subplots.AxesSubplot object at 0x000001D7CA073A60>,\n",
       "        <matplotlib.axes._subplots.AxesSubplot object at 0x000001D7C8A3BF40>],\n",
       "       [<matplotlib.axes._subplots.AxesSubplot object at 0x000001D7C9EB0BB0>,\n",
       "        <matplotlib.axes._subplots.AxesSubplot object at 0x000001D7C9FF13A0>,\n",
       "        <matplotlib.axes._subplots.AxesSubplot object at 0x000001D7CA1129D0>,\n",
       "        <matplotlib.axes._subplots.AxesSubplot object at 0x000001D7CA13FE50>,\n",
       "        <matplotlib.axes._subplots.AxesSubplot object at 0x000001D7CA1782E0>],\n",
       "       [<matplotlib.axes._subplots.AxesSubplot object at 0x000001D7CA1A5730>,\n",
       "        <matplotlib.axes._subplots.AxesSubplot object at 0x000001D7CA1D2B80>,\n",
       "        <matplotlib.axes._subplots.AxesSubplot object at 0x000001D7CA201FD0>,\n",
       "        <matplotlib.axes._subplots.AxesSubplot object at 0x000001D7CAA4A3A0>,\n",
       "        <matplotlib.axes._subplots.AxesSubplot object at 0x000001D7CAA699A0>]],\n",
       "      dtype=object)"
      ]
     },
     "execution_count": 39,
     "metadata": {},
     "output_type": "execute_result"
    },
    {
     "data": {
      "image/png": "[encoded data removed]",
      "text/plain": [
       "<Figure size 1080x1080 with 25 Axes>"
      ]
     },
     "metadata": {
      "needs_background": "light"
     },
     "output_type": "display_data"
    }
   ],
   "source": [
    "df.hist(figsize = (15,15))"
   ]
  },
  {
   "cell_type": "code",
   "execution_count": 40,
   "metadata": {},
   "outputs": [
    {
     "data": {
      "text/plain": [
       "<matplotlib.axes._subplots.AxesSubplot at 0x1d7cc2beca0>"
      ]
     },
     "execution_count": 40,
     "metadata": {},
     "output_type": "execute_result"
    },
    {
     "data": {
      "image/png": "[encoded data removed]",
      "text/plain": [
       "<Figure size 432x288 with 1 Axes>"
      ]
     },
     "metadata": {
      "needs_background": "light"
     },
     "output_type": "display_data"
    }
   ],
   "source": [
    "df['ReAdmis'].value_counts().plot.bar()"
   ]
  },
  {
   "cell_type": "code",
   "execution_count": 41,
   "metadata": {},
   "outputs": [],
   "source": [
    "#readmission = df['readmission']"
   ]
  },
  {
   "cell_type": "code",
   "execution_count": 42,
   "metadata": {},
   "outputs": [
    {
     "data": {
      "text/plain": [
       "No     6331\n",
       "Yes    3669\n",
       "Name: ReAdmis, dtype: int64"
      ]
     },
     "execution_count": 42,
     "metadata": {},
     "output_type": "execute_result"
    }
   ],
   "source": [
    "df['ReAdmis'].value_counts()"
   ]
  },
  {
   "cell_type": "code",
   "execution_count": 43,
   "metadata": {},
   "outputs": [
    {
     "data": {
      "image/png": "[encoded data removed]",
      "text/plain": [
       "<Figure size 432x288 with 1 Axes>"
      ]
     },
     "metadata": {},
     "output_type": "display_data"
    }
   ],
   "source": [
    "df['ReAdmis'].value_counts().plot.pie(autopct=\"%.1f%%\");\n",
    "plt.title(\"Readmission\", fontsize=14);"
   ]
  },
  {
   "cell_type": "code",
   "execution_count": 44,
   "metadata": {},
   "outputs": [
    {
     "data": {
      "text/html": [
       "<div>\n",
       "<style scoped>\n",
       "    .dataframe tbody tr th:only-of-type {\n",
       "        vertical-align: middle;\n",
       "    }\n",
       "\n",
       "    .dataframe tbody tr th {\n",
       "        vertical-align: top;\n",
       "    }\n",
       "\n",
       "    .dataframe thead th {\n",
       "        text-align: right;\n",
       "    }\n",
       "</style>\n",
       "<table border=\"1\" class=\"dataframe\">\n",
       "  <thead>\n",
       "    <tr style=\"text-align: right;\">\n",
       "      <th></th>\n",
       "      <th>Original_order</th>\n",
       "      <th>Zip</th>\n",
       "      <th>Lat</th>\n",
       "      <th>Lng</th>\n",
       "      <th>Population</th>\n",
       "      <th>Children</th>\n",
       "      <th>Age</th>\n",
       "      <th>Income</th>\n",
       "      <th>VitD_levels</th>\n",
       "      <th>Doc_visits</th>\n",
       "      <th>Full_meals_eaten</th>\n",
       "      <th>vitD_supp</th>\n",
       "      <th>Initial_days</th>\n",
       "      <th>TotalCharge</th>\n",
       "      <th>Additional_charges</th>\n",
       "      <th>Item1</th>\n",
       "      <th>Item2</th>\n",
       "      <th>Item3</th>\n",
       "      <th>Item4</th>\n",
       "      <th>Item5</th>\n",
       "      <th>Item6</th>\n",
       "      <th>Item7</th>\n",
       "      <th>Item8</th>\n",
       "    </tr>\n",
       "    <tr>\n",
       "      <th>ReAdmis</th>\n",
       "      <th></th>\n",
       "      <th></th>\n",
       "      <th></th>\n",
       "      <th></th>\n",
       "      <th></th>\n",
       "      <th></th>\n",
       "      <th></th>\n",
       "      <th></th>\n",
       "      <th></th>\n",
       "      <th></th>\n",
       "      <th></th>\n",
       "      <th></th>\n",
       "      <th></th>\n",
       "      <th></th>\n",
       "      <th></th>\n",
       "      <th></th>\n",
       "      <th></th>\n",
       "      <th></th>\n",
       "      <th></th>\n",
       "      <th></th>\n",
       "      <th></th>\n",
       "      <th></th>\n",
       "      <th></th>\n",
       "    </tr>\n",
       "  </thead>\n",
       "  <tbody>\n",
       "    <tr>\n",
       "      <th>No</th>\n",
       "      <td>3550.541779</td>\n",
       "      <td>49987.470700</td>\n",
       "      <td>38.810183</td>\n",
       "      <td>-91.228998</td>\n",
       "      <td>9739.104249</td>\n",
       "      <td>2.058443</td>\n",
       "      <td>53.263308</td>\n",
       "      <td>40740.257109</td>\n",
       "      <td>17.957993</td>\n",
       "      <td>5.012004</td>\n",
       "      <td>1.010741</td>\n",
       "      <td>0.393619</td>\n",
       "      <td>17.414699</td>\n",
       "      <td>3911.772150</td>\n",
       "      <td>12866.696031</td>\n",
       "      <td>3.531985</td>\n",
       "      <td>3.508608</td>\n",
       "      <td>3.520297</td>\n",
       "      <td>3.516664</td>\n",
       "      <td>3.492497</td>\n",
       "      <td>3.535776</td>\n",
       "      <td>3.497868</td>\n",
       "      <td>3.522982</td>\n",
       "    </tr>\n",
       "    <tr>\n",
       "      <th>Yes</th>\n",
       "      <td>7502.458436</td>\n",
       "      <td>50455.863178</td>\n",
       "      <td>38.649146</td>\n",
       "      <td>-91.267379</td>\n",
       "      <td>10355.483510</td>\n",
       "      <td>2.164077</td>\n",
       "      <td>53.940311</td>\n",
       "      <td>40059.521352</td>\n",
       "      <td>17.975079</td>\n",
       "      <td>5.012537</td>\n",
       "      <td>0.985282</td>\n",
       "      <td>0.408013</td>\n",
       "      <td>63.859507</td>\n",
       "      <td>7728.617663</td>\n",
       "      <td>13051.576261</td>\n",
       "      <td>3.496048</td>\n",
       "      <td>3.503407</td>\n",
       "      <td>3.495230</td>\n",
       "      <td>3.512401</td>\n",
       "      <td>3.504497</td>\n",
       "      <td>3.499591</td>\n",
       "      <td>3.487326</td>\n",
       "      <td>3.486781</td>\n",
       "    </tr>\n",
       "  </tbody>\n",
       "</table>\n",
       "</div>"
      ],
      "text/plain": [
       "         Original_order           Zip        Lat        Lng    Population  \\\n",
       "ReAdmis                                                                     \n",
       "No          3550.541779  49987.470700  38.810183 -91.228998   9739.104249   \n",
       "Yes         7502.458436  50455.863178  38.649146 -91.267379  10355.483510   \n",
       "\n",
       "         Children        Age        Income  VitD_levels  Doc_visits  \\\n",
       "ReAdmis                                                               \n",
       "No       2.058443  53.263308  40740.257109    17.957993    5.012004   \n",
       "Yes      2.164077  53.940311  40059.521352    17.975079    5.012537   \n",
       "\n",
       "         Full_meals_eaten  vitD_supp  Initial_days  TotalCharge  \\\n",
       "ReAdmis                                                           \n",
       "No               1.010741   0.393619     17.414699  3911.772150   \n",
       "Yes              0.985282   0.408013     63.859507  7728.617663   \n",
       "\n",
       "         Additional_charges     Item1     Item2     Item3     Item4     Item5  \\\n",
       "ReAdmis                                                                         \n",
       "No             12866.696031  3.531985  3.508608  3.520297  3.516664  3.492497   \n",
       "Yes            13051.576261  3.496048  3.503407  3.495230  3.512401  3.504497   \n",
       "\n",
       "            Item6     Item7     Item8  \n",
       "ReAdmis                                \n",
       "No       3.535776  3.497868  3.522982  \n",
       "Yes      3.499591  3.487326  3.486781  "
      ]
     },
     "execution_count": 44,
     "metadata": {},
     "output_type": "execute_result"
    }
   ],
   "source": [
    "df.groupby('ReAdmis').mean()"
   ]
  },
  {
   "cell_type": "code",
   "execution_count": 45,
   "metadata": {},
   "outputs": [
    {
     "data": {
      "image/png": "[encoded data removed]",
      "text/plain": [
       "<Figure size 432x288 with 1 Axes>"
      ]
     },
     "metadata": {
      "needs_background": "light"
     },
     "output_type": "display_data"
    }
   ],
   "source": [
    "#%matplotlib inline\n",
    "pd.crosstab(df.Area,df.ReAdmis).plot(kind='bar')\n",
    "plt.title('ReAdmission by Area')\n",
    "plt.xlabel('Area')\n",
    "plt.ylabel('Readmission rate')\n",
    "plt.savefig('Area and readmission')"
   ]
  },
  {
   "cell_type": "code",
   "execution_count": 46,
   "metadata": {},
   "outputs": [
    {
     "data": {
      "image/png": "[encoded data removed]",
      "text/plain": [
       "<Figure size 432x288 with 1 Axes>"
      ]
     },
     "metadata": {
      "needs_background": "light"
     },
     "output_type": "display_data"
    }
   ],
   "source": [
    "#%matplotlib inline\n",
    "pd.crosstab(df.Marital,df.ReAdmis).plot(kind='bar')\n",
    "plt.title('ReAdmission by Marital status')\n",
    "plt.xlabel('Marital status')\n",
    "plt.ylabel('Readmission rate')\n",
    "plt.savefig('Marital status and readmission')"
   ]
  },
  {
   "cell_type": "code",
   "execution_count": 47,
   "metadata": {},
   "outputs": [
    {
     "data": {
      "text/plain": [
       "<matplotlib.axes._subplots.AxesSubplot at 0x1d7cc214970>"
      ]
     },
     "execution_count": 47,
     "metadata": {},
     "output_type": "execute_result"
    },
    {
     "data": {
      "image/png": "[encoded data removed]",
      "text/plain": [
       "<Figure size 432x288 with 1 Axes>"
      ]
     },
     "metadata": {
      "needs_background": "light"
     },
     "output_type": "display_data"
    }
   ],
   "source": [
    "df.boxplot(column='Initial_days', by='ReAdmis')"
   ]
  },
  {
   "cell_type": "code",
   "execution_count": 48,
   "metadata": {},
   "outputs": [
    {
     "data": {
      "text/plain": [
       "<matplotlib.axes._subplots.AxesSubplot at 0x1d7cbe4c5e0>"
      ]
     },
     "execution_count": 48,
     "metadata": {},
     "output_type": "execute_result"
    },
    {
     "data": {
      "image/png": "[encoded data removed]",
      "text/plain": [
       "<Figure size 432x288 with 1 Axes>"
      ]
     },
     "metadata": {
      "needs_background": "light"
     },
     "output_type": "display_data"
    }
   ],
   "source": [
    "df.boxplot(column='TotalCharge', by='ReAdmis')"
   ]
  },
  {
   "cell_type": "markdown",
   "metadata": {},
   "source": [
    "Deleting variables\n",
    "\n",
    "excessive nulls\n",
    "\n",
    "high number of unique observations(zip)\n",
    "\n"
   ]
  },
  {
   "cell_type": "code",
   "execution_count": 49,
   "metadata": {},
   "outputs": [
    {
     "data": {
      "text/plain": [
       "Index(['Original_order', 'Customer_id', 'Interaction', 'UID', 'City', 'State',\n",
       "       'County', 'Zip', 'Lat', 'Lng', 'Population', 'Area', 'TimeZone', 'Job',\n",
       "       'Children', 'Age', 'Income', 'Marital', 'Gender', 'ReAdmis',\n",
       "       'VitD_levels', 'Doc_visits', 'Full_meals_eaten', 'vitD_supp',\n",
       "       'Soft_drink', 'Initial_admin', 'HighBlood', 'Stroke',\n",
       "       'Complication_risk', 'Overweight', 'Arthritis', 'Diabetes',\n",
       "       'Hyperlipidemia', 'BackPain', 'Anxiety', 'Allergic_rhinitis',\n",
       "       'Reflux_esophagitis', 'Asthma', 'Services', 'Initial_days',\n",
       "       'TotalCharge', 'Additional_charges', 'Item1', 'Item2', 'Item3', 'Item4',\n",
       "       'Item5', 'Item6', 'Item7', 'Item8'],\n",
       "      dtype='object')"
      ]
     },
     "execution_count": 49,
     "metadata": {},
     "output_type": "execute_result"
    }
   ],
   "source": [
    "df.columns"
   ]
  },
  {
   "cell_type": "code",
   "execution_count": 50,
   "metadata": {},
   "outputs": [],
   "source": [
    "df = df.drop(['Customer_id', 'Interaction', 'UID', 'Zip',\n",
    "       'Lat', 'Lng', 'City', 'State','County','Job','Soft_drink'], axis = 1) \n"
   ]
  },
  {
   "cell_type": "code",
   "execution_count": 51,
   "metadata": {},
   "outputs": [],
   "source": [
    "#df = df.dropna(subset=['Anxiety'])"
   ]
  },
  {
   "cell_type": "code",
   "execution_count": 52,
   "metadata": {},
   "outputs": [],
   "source": [
    "df = df.dropna(subset=['TimeZone'])"
   ]
  },
  {
   "cell_type": "code",
   "execution_count": 53,
   "metadata": {},
   "outputs": [
    {
     "data": {
      "text/plain": [
       "(10000, 39)"
      ]
     },
     "execution_count": 53,
     "metadata": {},
     "output_type": "execute_result"
    }
   ],
   "source": [
    "df.shape"
   ]
  },
  {
   "cell_type": "code",
   "execution_count": 54,
   "metadata": {},
   "outputs": [],
   "source": [
    "correl  = df.corr()"
   ]
  },
  {
   "cell_type": "code",
   "execution_count": 55,
   "metadata": {},
   "outputs": [
    {
     "data": {
      "text/plain": [
       "<matplotlib.axes._subplots.AxesSubplot at 0x1d7cbed8e80>"
      ]
     },
     "execution_count": 55,
     "metadata": {},
     "output_type": "execute_result"
    },
    {
     "data": {
      "image/png": "[encoded data removed]",
      "text/plain": [
       "<Figure size 1080x1080 with 2 Axes>"
      ]
     },
     "metadata": {
      "needs_background": "light"
     },
     "output_type": "display_data"
    }
   ],
   "source": [
    "fig, ax = plt.subplots(figsize=(15,15))\n",
    "sns.heatmap(correl, xticklabels = correl.columns, yticklabels = correl.columns, cmap='RdBu') "
   ]
  },
  {
   "cell_type": "code",
   "execution_count": 56,
   "metadata": {},
   "outputs": [
    {
     "data": {
      "text/plain": [
       "['Original_order',\n",
       " 'Population',\n",
       " 'Area',\n",
       " 'TimeZone',\n",
       " 'Children',\n",
       " 'Age',\n",
       " 'Income',\n",
       " 'Marital',\n",
       " 'Gender',\n",
       " 'ReAdmis',\n",
       " 'VitD_levels',\n",
       " 'Doc_visits',\n",
       " 'Full_meals_eaten',\n",
       " 'vitD_supp',\n",
       " 'Initial_admin',\n",
       " 'HighBlood',\n",
       " 'Stroke',\n",
       " 'Complication_risk',\n",
       " 'Overweight',\n",
       " 'Arthritis',\n",
       " 'Diabetes',\n",
       " 'Hyperlipidemia',\n",
       " 'BackPain',\n",
       " 'Anxiety',\n",
       " 'Allergic_rhinitis',\n",
       " 'Reflux_esophagitis',\n",
       " 'Asthma',\n",
       " 'Services',\n",
       " 'Initial_days',\n",
       " 'TotalCharge',\n",
       " 'Additional_charges',\n",
       " 'Item1',\n",
       " 'Item2',\n",
       " 'Item3',\n",
       " 'Item4',\n",
       " 'Item5',\n",
       " 'Item6',\n",
       " 'Item7',\n",
       " 'Item8']"
      ]
     },
     "execution_count": 56,
     "metadata": {},
     "output_type": "execute_result"
    }
   ],
   "source": [
    "list(df.columns)"
   ]
  },
  {
   "cell_type": "markdown",
   "metadata": {},
   "source": [
    "coding yes/ no columns to 1 or 0\n",
    "\n",
    "columns:\n",
    "\n",
    "ReAdmis\n",
    "Soft_drink\n",
    "HighBlood\n",
    "Stroke\n",
    "Overweight\n",
    "Arthitis\n",
    "Diabetes\n",
    "Hyperlipidemia\n",
    "BackPain\n",
    "Anxiety\n",
    "Allergic_rhinitis\n",
    "Reflux_esophagitis\n",
    "Asthma\n"
   ]
  },
  {
   "cell_type": "code",
   "execution_count": 57,
   "metadata": {},
   "outputs": [],
   "source": [
    "#df['ReAdmis']=df.ReAdmis.map(dict(Yes=1, No=0))\n",
    "df['HighBlood']=df.HighBlood.map(dict(Yes=1, No=0))\n",
    "df['Stroke']=df.Stroke.map(dict(Yes=1, No=0))\n",
    "df['Overweight']=df.Overweight.map(dict(Yes=1, No=0))\n",
    "df['Arthritis']=df.Arthritis.map(dict(Yes=1, No=0))\n",
    "df['Diabetes']=df.Diabetes.map(dict(Yes=1, No=0))\n",
    "df['Hyperlipidemia']=df.Hyperlipidemia.map(dict(Yes=1, No=0))\n",
    "df['BackPain']=df.BackPain.map(dict(Yes=1, No=0))\n",
    "df['Anxiety']=df.Anxiety.map(dict(Yes=1, No=0))\n",
    "df['Allergic_rhinitis']=df.Allergic_rhinitis.map(dict(Yes=1, No=0))\n",
    "df['Reflux_esophagitis']=df.Reflux_esophagitis.map(dict(Yes=1, No=0))\n",
    "df['Asthma']=df.Asthma.map(dict(Yes=1, No=0))\n",
    "\n",
    "# df = df.HighBlood.replace(to_replace=['No', 'Yes'], value=[0, 1])\n",
    "# df = df.Stroke.replace(to_replace=['No', 'Yes'], value=[0, 1])\n",
    "# df = df.Overweight.replace(to_replace=['No', 'Yes'], value=[0, 1])\n",
    "# df = df.Arthritis.replace(to_replace=['No', 'Yes'], value=[0, 1])\n",
    "# df = df.Diabetes.replace(to_replace=['No', 'Yes'], value=[0, 1])\n",
    "# df = df.Hyperlipidemia.replace(to_replace=['No', 'Yes'], value=[0, 1])\n",
    "# df = df.BackPain.replace(to_replace=['No', 'Yes'], value=[0, 1])\n",
    "# df = df.Anxiety.replace(to_replace=['No', 'Yes'], value=[0, 1])\n",
    "# df = df.Allergic_rhinitis.replace(to_replace=['No', 'Yes'], value=[0, 1])\n",
    "# df = df.Reflux_esophagitis.replace(to_replace=['No', 'Yes'], value=[0, 1])\n",
    "# df = df.Asthma.replace(to_replace=['No', 'Yes'], value=[0, 1])"
   ]
  },
  {
   "cell_type": "code",
   "execution_count": 58,
   "metadata": {},
   "outputs": [
    {
     "data": {
      "text/html": [
       "<div>\n",
       "<style scoped>\n",
       "    .dataframe tbody tr th:only-of-type {\n",
       "        vertical-align: middle;\n",
       "    }\n",
       "\n",
       "    .dataframe tbody tr th {\n",
       "        vertical-align: top;\n",
       "    }\n",
       "\n",
       "    .dataframe thead th {\n",
       "        text-align: right;\n",
       "    }\n",
       "</style>\n",
       "<table border=\"1\" class=\"dataframe\">\n",
       "  <thead>\n",
       "    <tr style=\"text-align: right;\">\n",
       "      <th></th>\n",
       "      <th>Original_order</th>\n",
       "      <th>Population</th>\n",
       "      <th>Area</th>\n",
       "      <th>TimeZone</th>\n",
       "      <th>Children</th>\n",
       "      <th>Age</th>\n",
       "      <th>Income</th>\n",
       "      <th>Marital</th>\n",
       "      <th>Gender</th>\n",
       "      <th>ReAdmis</th>\n",
       "      <th>VitD_levels</th>\n",
       "      <th>Doc_visits</th>\n",
       "      <th>Full_meals_eaten</th>\n",
       "      <th>vitD_supp</th>\n",
       "      <th>Initial_admin</th>\n",
       "      <th>HighBlood</th>\n",
       "      <th>Stroke</th>\n",
       "      <th>Complication_risk</th>\n",
       "      <th>Overweight</th>\n",
       "      <th>Arthritis</th>\n",
       "      <th>Diabetes</th>\n",
       "      <th>Hyperlipidemia</th>\n",
       "      <th>BackPain</th>\n",
       "      <th>Anxiety</th>\n",
       "      <th>Allergic_rhinitis</th>\n",
       "      <th>Reflux_esophagitis</th>\n",
       "      <th>Asthma</th>\n",
       "      <th>Services</th>\n",
       "      <th>Initial_days</th>\n",
       "      <th>TotalCharge</th>\n",
       "      <th>Additional_charges</th>\n",
       "      <th>Item1</th>\n",
       "      <th>Item2</th>\n",
       "      <th>Item3</th>\n",
       "      <th>Item4</th>\n",
       "      <th>Item5</th>\n",
       "      <th>Item6</th>\n",
       "      <th>Item7</th>\n",
       "      <th>Item8</th>\n",
       "    </tr>\n",
       "  </thead>\n",
       "  <tbody>\n",
       "    <tr>\n",
       "      <th>0</th>\n",
       "      <td>1</td>\n",
       "      <td>2951</td>\n",
       "      <td>Suburban</td>\n",
       "      <td>America/Chicago</td>\n",
       "      <td>1</td>\n",
       "      <td>53</td>\n",
       "      <td>86575.93</td>\n",
       "      <td>Divorced</td>\n",
       "      <td>Male</td>\n",
       "      <td>No</td>\n",
       "      <td>19.141466</td>\n",
       "      <td>6</td>\n",
       "      <td>0</td>\n",
       "      <td>0</td>\n",
       "      <td>Emergency Admission</td>\n",
       "      <td>1</td>\n",
       "      <td>0</td>\n",
       "      <td>Medium</td>\n",
       "      <td>0</td>\n",
       "      <td>1</td>\n",
       "      <td>1</td>\n",
       "      <td>0</td>\n",
       "      <td>1</td>\n",
       "      <td>1</td>\n",
       "      <td>1</td>\n",
       "      <td>0</td>\n",
       "      <td>1</td>\n",
       "      <td>Blood Work</td>\n",
       "      <td>10.585770</td>\n",
       "      <td>3726.702860</td>\n",
       "      <td>17939.403420</td>\n",
       "      <td>3</td>\n",
       "      <td>3</td>\n",
       "      <td>2</td>\n",
       "      <td>2</td>\n",
       "      <td>4</td>\n",
       "      <td>3</td>\n",
       "      <td>3</td>\n",
       "      <td>4</td>\n",
       "    </tr>\n",
       "    <tr>\n",
       "      <th>1</th>\n",
       "      <td>2</td>\n",
       "      <td>11303</td>\n",
       "      <td>Urban</td>\n",
       "      <td>America/Chicago</td>\n",
       "      <td>3</td>\n",
       "      <td>51</td>\n",
       "      <td>46805.99</td>\n",
       "      <td>Married</td>\n",
       "      <td>Female</td>\n",
       "      <td>No</td>\n",
       "      <td>18.940352</td>\n",
       "      <td>4</td>\n",
       "      <td>2</td>\n",
       "      <td>1</td>\n",
       "      <td>Emergency Admission</td>\n",
       "      <td>1</td>\n",
       "      <td>0</td>\n",
       "      <td>High</td>\n",
       "      <td>1</td>\n",
       "      <td>0</td>\n",
       "      <td>0</td>\n",
       "      <td>0</td>\n",
       "      <td>0</td>\n",
       "      <td>0</td>\n",
       "      <td>0</td>\n",
       "      <td>1</td>\n",
       "      <td>0</td>\n",
       "      <td>Intravenous</td>\n",
       "      <td>15.129562</td>\n",
       "      <td>4193.190458</td>\n",
       "      <td>17612.998120</td>\n",
       "      <td>3</td>\n",
       "      <td>4</td>\n",
       "      <td>3</td>\n",
       "      <td>4</td>\n",
       "      <td>4</td>\n",
       "      <td>4</td>\n",
       "      <td>3</td>\n",
       "      <td>3</td>\n",
       "    </tr>\n",
       "    <tr>\n",
       "      <th>2</th>\n",
       "      <td>3</td>\n",
       "      <td>17125</td>\n",
       "      <td>Suburban</td>\n",
       "      <td>America/Chicago</td>\n",
       "      <td>3</td>\n",
       "      <td>53</td>\n",
       "      <td>14370.14</td>\n",
       "      <td>Widowed</td>\n",
       "      <td>Female</td>\n",
       "      <td>No</td>\n",
       "      <td>18.057507</td>\n",
       "      <td>4</td>\n",
       "      <td>1</td>\n",
       "      <td>0</td>\n",
       "      <td>Elective Admission</td>\n",
       "      <td>1</td>\n",
       "      <td>0</td>\n",
       "      <td>Medium</td>\n",
       "      <td>1</td>\n",
       "      <td>0</td>\n",
       "      <td>1</td>\n",
       "      <td>0</td>\n",
       "      <td>0</td>\n",
       "      <td>0</td>\n",
       "      <td>0</td>\n",
       "      <td>0</td>\n",
       "      <td>0</td>\n",
       "      <td>Blood Work</td>\n",
       "      <td>4.772177</td>\n",
       "      <td>2434.234222</td>\n",
       "      <td>17505.192460</td>\n",
       "      <td>2</td>\n",
       "      <td>4</td>\n",
       "      <td>4</td>\n",
       "      <td>4</td>\n",
       "      <td>3</td>\n",
       "      <td>4</td>\n",
       "      <td>3</td>\n",
       "      <td>3</td>\n",
       "    </tr>\n",
       "    <tr>\n",
       "      <th>3</th>\n",
       "      <td>4</td>\n",
       "      <td>2162</td>\n",
       "      <td>Suburban</td>\n",
       "      <td>America/Chicago</td>\n",
       "      <td>0</td>\n",
       "      <td>78</td>\n",
       "      <td>39741.49</td>\n",
       "      <td>Married</td>\n",
       "      <td>Male</td>\n",
       "      <td>No</td>\n",
       "      <td>16.576858</td>\n",
       "      <td>4</td>\n",
       "      <td>1</td>\n",
       "      <td>0</td>\n",
       "      <td>Elective Admission</td>\n",
       "      <td>0</td>\n",
       "      <td>1</td>\n",
       "      <td>Medium</td>\n",
       "      <td>0</td>\n",
       "      <td>1</td>\n",
       "      <td>0</td>\n",
       "      <td>0</td>\n",
       "      <td>0</td>\n",
       "      <td>0</td>\n",
       "      <td>0</td>\n",
       "      <td>1</td>\n",
       "      <td>1</td>\n",
       "      <td>Blood Work</td>\n",
       "      <td>1.714879</td>\n",
       "      <td>2127.830423</td>\n",
       "      <td>12993.437350</td>\n",
       "      <td>3</td>\n",
       "      <td>5</td>\n",
       "      <td>5</td>\n",
       "      <td>3</td>\n",
       "      <td>4</td>\n",
       "      <td>5</td>\n",
       "      <td>5</td>\n",
       "      <td>5</td>\n",
       "    </tr>\n",
       "    <tr>\n",
       "      <th>4</th>\n",
       "      <td>5</td>\n",
       "      <td>5287</td>\n",
       "      <td>Rural</td>\n",
       "      <td>America/New_York</td>\n",
       "      <td>1</td>\n",
       "      <td>22</td>\n",
       "      <td>1209.56</td>\n",
       "      <td>Widowed</td>\n",
       "      <td>Female</td>\n",
       "      <td>No</td>\n",
       "      <td>17.439069</td>\n",
       "      <td>5</td>\n",
       "      <td>0</td>\n",
       "      <td>2</td>\n",
       "      <td>Elective Admission</td>\n",
       "      <td>0</td>\n",
       "      <td>0</td>\n",
       "      <td>Low</td>\n",
       "      <td>0</td>\n",
       "      <td>0</td>\n",
       "      <td>0</td>\n",
       "      <td>1</td>\n",
       "      <td>0</td>\n",
       "      <td>0</td>\n",
       "      <td>1</td>\n",
       "      <td>0</td>\n",
       "      <td>0</td>\n",
       "      <td>CT Scan</td>\n",
       "      <td>1.254807</td>\n",
       "      <td>2113.073274</td>\n",
       "      <td>3716.525786</td>\n",
       "      <td>2</td>\n",
       "      <td>1</td>\n",
       "      <td>3</td>\n",
       "      <td>3</td>\n",
       "      <td>5</td>\n",
       "      <td>3</td>\n",
       "      <td>4</td>\n",
       "      <td>3</td>\n",
       "    </tr>\n",
       "  </tbody>\n",
       "</table>\n",
       "</div>"
      ],
      "text/plain": [
       "   Original_order  Population      Area          TimeZone  Children  Age  \\\n",
       "0               1        2951  Suburban   America/Chicago         1   53   \n",
       "1               2       11303     Urban   America/Chicago         3   51   \n",
       "2               3       17125  Suburban   America/Chicago         3   53   \n",
       "3               4        2162  Suburban   America/Chicago         0   78   \n",
       "4               5        5287     Rural  America/New_York         1   22   \n",
       "\n",
       "     Income   Marital  Gender ReAdmis  VitD_levels  Doc_visits  \\\n",
       "0  86575.93  Divorced    Male      No    19.141466           6   \n",
       "1  46805.99   Married  Female      No    18.940352           4   \n",
       "2  14370.14   Widowed  Female      No    18.057507           4   \n",
       "3  39741.49   Married    Male      No    16.576858           4   \n",
       "4   1209.56   Widowed  Female      No    17.439069           5   \n",
       "\n",
       "   Full_meals_eaten  vitD_supp        Initial_admin  HighBlood  Stroke  \\\n",
       "0                 0          0  Emergency Admission          1       0   \n",
       "1                 2          1  Emergency Admission          1       0   \n",
       "2                 1          0   Elective Admission          1       0   \n",
       "3                 1          0   Elective Admission          0       1   \n",
       "4                 0          2   Elective Admission          0       0   \n",
       "\n",
       "  Complication_risk  Overweight  Arthritis  Diabetes  Hyperlipidemia  \\\n",
       "0            Medium           0          1         1               0   \n",
       "1              High           1          0         0               0   \n",
       "2            Medium           1          0         1               0   \n",
       "3            Medium           0          1         0               0   \n",
       "4               Low           0          0         0               1   \n",
       "\n",
       "   BackPain  Anxiety  Allergic_rhinitis  Reflux_esophagitis  Asthma  \\\n",
       "0         1        1                  1                   0       1   \n",
       "1         0        0                  0                   1       0   \n",
       "2         0        0                  0                   0       0   \n",
       "3         0        0                  0                   1       1   \n",
       "4         0        0                  1                   0       0   \n",
       "\n",
       "      Services  Initial_days  TotalCharge  Additional_charges  Item1  Item2  \\\n",
       "0   Blood Work     10.585770  3726.702860        17939.403420      3      3   \n",
       "1  Intravenous     15.129562  4193.190458        17612.998120      3      4   \n",
       "2   Blood Work      4.772177  2434.234222        17505.192460      2      4   \n",
       "3   Blood Work      1.714879  2127.830423        12993.437350      3      5   \n",
       "4      CT Scan      1.254807  2113.073274         3716.525786      2      1   \n",
       "\n",
       "   Item3  Item4  Item5  Item6  Item7  Item8  \n",
       "0      2      2      4      3      3      4  \n",
       "1      3      4      4      4      3      3  \n",
       "2      4      4      3      4      3      3  \n",
       "3      5      3      4      5      5      5  \n",
       "4      3      3      5      3      4      3  "
      ]
     },
     "execution_count": 58,
     "metadata": {},
     "output_type": "execute_result"
    }
   ],
   "source": [
    "df.head(5)"
   ]
  },
  {
   "cell_type": "code",
   "execution_count": 59,
   "metadata": {},
   "outputs": [
    {
     "data": {
      "text/plain": [
       "No     6331\n",
       "Yes    3669\n",
       "Name: ReAdmis, dtype: int64"
      ]
     },
     "execution_count": 59,
     "metadata": {},
     "output_type": "execute_result"
    }
   ],
   "source": [
    "df['ReAdmis'].value_counts()"
   ]
  },
  {
   "cell_type": "code",
   "execution_count": 60,
   "metadata": {},
   "outputs": [
    {
     "data": {
      "text/plain": [
       "False    10000\n",
       "Name: ReAdmis, dtype: int64"
      ]
     },
     "execution_count": 60,
     "metadata": {},
     "output_type": "execute_result"
    }
   ],
   "source": [
    "df['ReAdmis'].isnull().value_counts()"
   ]
  },
  {
   "cell_type": "markdown",
   "metadata": {},
   "source": [
    "Variables for one hot encoding\n",
    "\n",
    "Area\n",
    "TimeZone\n",
    "Marital\n",
    "Gender\n",
    "Initial_admin\n",
    "Complication_risk\n",
    "Services"
   ]
  },
  {
   "cell_type": "code",
   "execution_count": 61,
   "metadata": {},
   "outputs": [],
   "source": [
    "df['Initial_admin'] = df['Initial_admin'].str.replace(' Admission', '')"
   ]
  },
  {
   "cell_type": "code",
   "execution_count": 62,
   "metadata": {},
   "outputs": [],
   "source": [
    "df['Services'] = df['Services'].str.replace(' ', '_')"
   ]
  },
  {
   "cell_type": "code",
   "execution_count": 63,
   "metadata": {},
   "outputs": [],
   "source": [
    "df['Marital'] = df['Marital'].str.replace(' ','_')"
   ]
  },
  {
   "cell_type": "code",
   "execution_count": 64,
   "metadata": {},
   "outputs": [],
   "source": [
    "df = pd.concat([df, pd.get_dummies(df['Area'], prefix='Area' , drop_first=True)], axis=1)\n",
    "df = pd.concat([df, pd.get_dummies(df['Marital'], prefix='Marital', drop_first=True)], axis=1)\n",
    "df = pd.concat([df, pd.get_dummies(df['Gender'], prefix='Gender', drop_first=True)], axis=1)\n",
    "df = pd.concat([df, pd.get_dummies(df['Initial_admin'], prefix='Initial_admin', drop_first=True)], axis=1)\n",
    "df = pd.concat([df, pd.get_dummies(df['Complication_risk'], prefix='Complication_risk', drop_first=True)], axis=1)\n",
    "df = pd.concat([df, pd.get_dummies(df['Services'], prefix='Services', drop_first=True)], axis=1)\n",
    "df = pd.concat([df, pd.get_dummies(df['ReAdmis'], prefix='ReAdmis', drop_first=True)], axis=1)\n",
    "#, drop_first=True"
   ]
  },
  {
   "cell_type": "code",
   "execution_count": 65,
   "metadata": {},
   "outputs": [],
   "source": [
    "df.drop(['Area'],axis=1, inplace=True)\n",
    "df.drop(['Marital'],axis=1, inplace=True)\n",
    "df.drop(['Gender'],axis=1, inplace=True)\n",
    "df.drop(['Initial_admin'],axis=1, inplace=True)\n",
    "df.drop(['Complication_risk'],axis=1, inplace=True)\n",
    "df.drop(['Services'],axis=1, inplace=True)\n",
    "df.drop(['TimeZone'], axis=1, inplace=True)\n",
    "df.drop(['ReAdmis'], axis=1, inplace=True)\n",
    "\n",
    "#dropping \"items\"\n",
    "df.drop(['Item1'], axis=1, inplace=True)\n",
    "df.drop(['Item2'], axis=1, inplace=True)\n",
    "df.drop(['Item3'], axis=1, inplace=True)\n",
    "df.drop(['Item4'], axis=1, inplace=True)\n",
    "df.drop(['Item5'], axis=1, inplace=True)\n",
    "df.drop(['Item6'], axis=1, inplace=True)\n",
    "df.drop(['Item7'], axis=1, inplace=True)\n",
    "df.drop(['Item8'], axis=1, inplace=True)"
   ]
  },
  {
   "cell_type": "code",
   "execution_count": 66,
   "metadata": {},
   "outputs": [
    {
     "data": {
      "text/html": [
       "<div>\n",
       "<style scoped>\n",
       "    .dataframe tbody tr th:only-of-type {\n",
       "        vertical-align: middle;\n",
       "    }\n",
       "\n",
       "    .dataframe tbody tr th {\n",
       "        vertical-align: top;\n",
       "    }\n",
       "\n",
       "    .dataframe thead th {\n",
       "        text-align: right;\n",
       "    }\n",
       "</style>\n",
       "<table border=\"1\" class=\"dataframe\">\n",
       "  <thead>\n",
       "    <tr style=\"text-align: right;\">\n",
       "      <th></th>\n",
       "      <th>Original_order</th>\n",
       "      <th>Population</th>\n",
       "      <th>Children</th>\n",
       "      <th>Age</th>\n",
       "      <th>Income</th>\n",
       "      <th>VitD_levels</th>\n",
       "      <th>Doc_visits</th>\n",
       "      <th>Full_meals_eaten</th>\n",
       "      <th>vitD_supp</th>\n",
       "      <th>HighBlood</th>\n",
       "      <th>Stroke</th>\n",
       "      <th>Overweight</th>\n",
       "      <th>Arthritis</th>\n",
       "      <th>Diabetes</th>\n",
       "      <th>Hyperlipidemia</th>\n",
       "      <th>BackPain</th>\n",
       "      <th>Anxiety</th>\n",
       "      <th>Allergic_rhinitis</th>\n",
       "      <th>Reflux_esophagitis</th>\n",
       "      <th>Asthma</th>\n",
       "      <th>Initial_days</th>\n",
       "      <th>TotalCharge</th>\n",
       "      <th>Additional_charges</th>\n",
       "      <th>Area_Suburban</th>\n",
       "      <th>Area_Urban</th>\n",
       "      <th>Marital_Married</th>\n",
       "      <th>Marital_Never_Married</th>\n",
       "      <th>Marital_Separated</th>\n",
       "      <th>Marital_Widowed</th>\n",
       "      <th>Gender_Male</th>\n",
       "      <th>Gender_Nonbinary</th>\n",
       "      <th>Initial_admin_Emergency</th>\n",
       "      <th>Initial_admin_Observation</th>\n",
       "      <th>Complication_risk_Low</th>\n",
       "      <th>Complication_risk_Medium</th>\n",
       "      <th>Services_CT_Scan</th>\n",
       "      <th>Services_Intravenous</th>\n",
       "      <th>Services_MRI</th>\n",
       "      <th>ReAdmis_Yes</th>\n",
       "    </tr>\n",
       "  </thead>\n",
       "  <tbody>\n",
       "    <tr>\n",
       "      <th>0</th>\n",
       "      <td>1</td>\n",
       "      <td>2951</td>\n",
       "      <td>1</td>\n",
       "      <td>53</td>\n",
       "      <td>86575.93</td>\n",
       "      <td>19.141466</td>\n",
       "      <td>6</td>\n",
       "      <td>0</td>\n",
       "      <td>0</td>\n",
       "      <td>1</td>\n",
       "      <td>0</td>\n",
       "      <td>0</td>\n",
       "      <td>1</td>\n",
       "      <td>1</td>\n",
       "      <td>0</td>\n",
       "      <td>1</td>\n",
       "      <td>1</td>\n",
       "      <td>1</td>\n",
       "      <td>0</td>\n",
       "      <td>1</td>\n",
       "      <td>10.585770</td>\n",
       "      <td>3726.702860</td>\n",
       "      <td>17939.403420</td>\n",
       "      <td>1</td>\n",
       "      <td>0</td>\n",
       "      <td>0</td>\n",
       "      <td>0</td>\n",
       "      <td>0</td>\n",
       "      <td>0</td>\n",
       "      <td>1</td>\n",
       "      <td>0</td>\n",
       "      <td>1</td>\n",
       "      <td>0</td>\n",
       "      <td>0</td>\n",
       "      <td>1</td>\n",
       "      <td>0</td>\n",
       "      <td>0</td>\n",
       "      <td>0</td>\n",
       "      <td>0</td>\n",
       "    </tr>\n",
       "    <tr>\n",
       "      <th>1</th>\n",
       "      <td>2</td>\n",
       "      <td>11303</td>\n",
       "      <td>3</td>\n",
       "      <td>51</td>\n",
       "      <td>46805.99</td>\n",
       "      <td>18.940352</td>\n",
       "      <td>4</td>\n",
       "      <td>2</td>\n",
       "      <td>1</td>\n",
       "      <td>1</td>\n",
       "      <td>0</td>\n",
       "      <td>1</td>\n",
       "      <td>0</td>\n",
       "      <td>0</td>\n",
       "      <td>0</td>\n",
       "      <td>0</td>\n",
       "      <td>0</td>\n",
       "      <td>0</td>\n",
       "      <td>1</td>\n",
       "      <td>0</td>\n",
       "      <td>15.129562</td>\n",
       "      <td>4193.190458</td>\n",
       "      <td>17612.998120</td>\n",
       "      <td>0</td>\n",
       "      <td>1</td>\n",
       "      <td>1</td>\n",
       "      <td>0</td>\n",
       "      <td>0</td>\n",
       "      <td>0</td>\n",
       "      <td>0</td>\n",
       "      <td>0</td>\n",
       "      <td>1</td>\n",
       "      <td>0</td>\n",
       "      <td>0</td>\n",
       "      <td>0</td>\n",
       "      <td>0</td>\n",
       "      <td>1</td>\n",
       "      <td>0</td>\n",
       "      <td>0</td>\n",
       "    </tr>\n",
       "    <tr>\n",
       "      <th>2</th>\n",
       "      <td>3</td>\n",
       "      <td>17125</td>\n",
       "      <td>3</td>\n",
       "      <td>53</td>\n",
       "      <td>14370.14</td>\n",
       "      <td>18.057507</td>\n",
       "      <td>4</td>\n",
       "      <td>1</td>\n",
       "      <td>0</td>\n",
       "      <td>1</td>\n",
       "      <td>0</td>\n",
       "      <td>1</td>\n",
       "      <td>0</td>\n",
       "      <td>1</td>\n",
       "      <td>0</td>\n",
       "      <td>0</td>\n",
       "      <td>0</td>\n",
       "      <td>0</td>\n",
       "      <td>0</td>\n",
       "      <td>0</td>\n",
       "      <td>4.772177</td>\n",
       "      <td>2434.234222</td>\n",
       "      <td>17505.192460</td>\n",
       "      <td>1</td>\n",
       "      <td>0</td>\n",
       "      <td>0</td>\n",
       "      <td>0</td>\n",
       "      <td>0</td>\n",
       "      <td>1</td>\n",
       "      <td>0</td>\n",
       "      <td>0</td>\n",
       "      <td>0</td>\n",
       "      <td>0</td>\n",
       "      <td>0</td>\n",
       "      <td>1</td>\n",
       "      <td>0</td>\n",
       "      <td>0</td>\n",
       "      <td>0</td>\n",
       "      <td>0</td>\n",
       "    </tr>\n",
       "    <tr>\n",
       "      <th>3</th>\n",
       "      <td>4</td>\n",
       "      <td>2162</td>\n",
       "      <td>0</td>\n",
       "      <td>78</td>\n",
       "      <td>39741.49</td>\n",
       "      <td>16.576858</td>\n",
       "      <td>4</td>\n",
       "      <td>1</td>\n",
       "      <td>0</td>\n",
       "      <td>0</td>\n",
       "      <td>1</td>\n",
       "      <td>0</td>\n",
       "      <td>1</td>\n",
       "      <td>0</td>\n",
       "      <td>0</td>\n",
       "      <td>0</td>\n",
       "      <td>0</td>\n",
       "      <td>0</td>\n",
       "      <td>1</td>\n",
       "      <td>1</td>\n",
       "      <td>1.714879</td>\n",
       "      <td>2127.830423</td>\n",
       "      <td>12993.437350</td>\n",
       "      <td>1</td>\n",
       "      <td>0</td>\n",
       "      <td>1</td>\n",
       "      <td>0</td>\n",
       "      <td>0</td>\n",
       "      <td>0</td>\n",
       "      <td>1</td>\n",
       "      <td>0</td>\n",
       "      <td>0</td>\n",
       "      <td>0</td>\n",
       "      <td>0</td>\n",
       "      <td>1</td>\n",
       "      <td>0</td>\n",
       "      <td>0</td>\n",
       "      <td>0</td>\n",
       "      <td>0</td>\n",
       "    </tr>\n",
       "    <tr>\n",
       "      <th>4</th>\n",
       "      <td>5</td>\n",
       "      <td>5287</td>\n",
       "      <td>1</td>\n",
       "      <td>22</td>\n",
       "      <td>1209.56</td>\n",
       "      <td>17.439069</td>\n",
       "      <td>5</td>\n",
       "      <td>0</td>\n",
       "      <td>2</td>\n",
       "      <td>0</td>\n",
       "      <td>0</td>\n",
       "      <td>0</td>\n",
       "      <td>0</td>\n",
       "      <td>0</td>\n",
       "      <td>1</td>\n",
       "      <td>0</td>\n",
       "      <td>0</td>\n",
       "      <td>1</td>\n",
       "      <td>0</td>\n",
       "      <td>0</td>\n",
       "      <td>1.254807</td>\n",
       "      <td>2113.073274</td>\n",
       "      <td>3716.525786</td>\n",
       "      <td>0</td>\n",
       "      <td>0</td>\n",
       "      <td>0</td>\n",
       "      <td>0</td>\n",
       "      <td>0</td>\n",
       "      <td>1</td>\n",
       "      <td>0</td>\n",
       "      <td>0</td>\n",
       "      <td>0</td>\n",
       "      <td>0</td>\n",
       "      <td>1</td>\n",
       "      <td>0</td>\n",
       "      <td>1</td>\n",
       "      <td>0</td>\n",
       "      <td>0</td>\n",
       "      <td>0</td>\n",
       "    </tr>\n",
       "  </tbody>\n",
       "</table>\n",
       "</div>"
      ],
      "text/plain": [
       "   Original_order  Population  Children  Age    Income  VitD_levels  \\\n",
       "0               1        2951         1   53  86575.93    19.141466   \n",
       "1               2       11303         3   51  46805.99    18.940352   \n",
       "2               3       17125         3   53  14370.14    18.057507   \n",
       "3               4        2162         0   78  39741.49    16.576858   \n",
       "4               5        5287         1   22   1209.56    17.439069   \n",
       "\n",
       "   Doc_visits  Full_meals_eaten  vitD_supp  HighBlood  Stroke  Overweight  \\\n",
       "0           6                 0          0          1       0           0   \n",
       "1           4                 2          1          1       0           1   \n",
       "2           4                 1          0          1       0           1   \n",
       "3           4                 1          0          0       1           0   \n",
       "4           5                 0          2          0       0           0   \n",
       "\n",
       "   Arthritis  Diabetes  Hyperlipidemia  BackPain  Anxiety  Allergic_rhinitis  \\\n",
       "0          1         1               0         1        1                  1   \n",
       "1          0         0               0         0        0                  0   \n",
       "2          0         1               0         0        0                  0   \n",
       "3          1         0               0         0        0                  0   \n",
       "4          0         0               1         0        0                  1   \n",
       "\n",
       "   Reflux_esophagitis  Asthma  Initial_days  TotalCharge  Additional_charges  \\\n",
       "0                   0       1     10.585770  3726.702860        17939.403420   \n",
       "1                   1       0     15.129562  4193.190458        17612.998120   \n",
       "2                   0       0      4.772177  2434.234222        17505.192460   \n",
       "3                   1       1      1.714879  2127.830423        12993.437350   \n",
       "4                   0       0      1.254807  2113.073274         3716.525786   \n",
       "\n",
       "   Area_Suburban  Area_Urban  Marital_Married  Marital_Never_Married  \\\n",
       "0              1           0                0                      0   \n",
       "1              0           1                1                      0   \n",
       "2              1           0                0                      0   \n",
       "3              1           0                1                      0   \n",
       "4              0           0                0                      0   \n",
       "\n",
       "   Marital_Separated  Marital_Widowed  Gender_Male  Gender_Nonbinary  \\\n",
       "0                  0                0            1                 0   \n",
       "1                  0                0            0                 0   \n",
       "2                  0                1            0                 0   \n",
       "3                  0                0            1                 0   \n",
       "4                  0                1            0                 0   \n",
       "\n",
       "   Initial_admin_Emergency  Initial_admin_Observation  Complication_risk_Low  \\\n",
       "0                        1                          0                      0   \n",
       "1                        1                          0                      0   \n",
       "2                        0                          0                      0   \n",
       "3                        0                          0                      0   \n",
       "4                        0                          0                      1   \n",
       "\n",
       "   Complication_risk_Medium  Services_CT_Scan  Services_Intravenous  \\\n",
       "0                         1                 0                     0   \n",
       "1                         0                 0                     1   \n",
       "2                         1                 0                     0   \n",
       "3                         1                 0                     0   \n",
       "4                         0                 1                     0   \n",
       "\n",
       "   Services_MRI  ReAdmis_Yes  \n",
       "0             0            0  \n",
       "1             0            0  \n",
       "2             0            0  \n",
       "3             0            0  \n",
       "4             0            0  "
      ]
     },
     "execution_count": 66,
     "metadata": {},
     "output_type": "execute_result"
    }
   ],
   "source": [
    "df.head()"
   ]
  },
  {
   "cell_type": "markdown",
   "metadata": {},
   "source": [
    "exporting to csv"
   ]
  },
  {
   "cell_type": "code",
   "execution_count": 67,
   "metadata": {},
   "outputs": [],
   "source": [
    "df.to_csv('prepared_med_data.csv')"
   ]
  },
  {
   "cell_type": "markdown",
   "metadata": {},
   "source": [
    "Scale data"
   ]
  },
  {
   "cell_type": "code",
   "execution_count": null,
   "metadata": {},
   "outputs": [],
   "source": []
  },
  {
   "cell_type": "code",
   "execution_count": 68,
   "metadata": {},
   "outputs": [],
   "source": [
    "# from sklearn.preprocessing import StandardScaler\n",
    "# from sklearn import preprocessing\n",
    "\n",
    "\n",
    "# # Create the Scaler object\n",
    "# reA = pd.Series(df['ReAdmis']\n",
    "# s_df = df.drop(\"ReAdmis\",axis=1)\n",
    "# scaler = StandardScaler()\n",
    "# scaled_df = scaler.fit_transform(s_df)"
   ]
  },
  {
   "cell_type": "code",
   "execution_count": 69,
   "metadata": {},
   "outputs": [
    {
     "data": {
      "text/plain": [
       "(10000, 39)"
      ]
     },
     "execution_count": 69,
     "metadata": {},
     "output_type": "execute_result"
    }
   ],
   "source": [
    "df.shape"
   ]
  },
  {
   "cell_type": "code",
   "execution_count": 70,
   "metadata": {},
   "outputs": [],
   "source": [
    "#titles = s_df.columns"
   ]
  },
  {
   "cell_type": "code",
   "execution_count": 71,
   "metadata": {},
   "outputs": [],
   "source": [
    "# df = pd.DataFrame(scaled_df, columns = titles)\n",
    "# df['ReAdmis'] = reA"
   ]
  },
  {
   "cell_type": "code",
   "execution_count": 72,
   "metadata": {},
   "outputs": [
    {
     "ename": "NameError",
     "evalue": "name 'bb' is not defined",
     "output_type": "error",
     "traceback": [
      "\u001b[1;31m---------------------------------------------------------------------------\u001b[0m",
      "\u001b[1;31mNameError\u001b[0m                                 Traceback (most recent call last)",
      "\u001b[1;32m<ipython-input-72-9619a9b308cd>\u001b[0m in \u001b[0;36m<module>\u001b[1;34m\u001b[0m\n\u001b[1;32m----> 1\u001b[1;33m \u001b[0mbb\u001b[0m\u001b[1;33m\u001b[0m\u001b[1;33m\u001b[0m\u001b[0m\n\u001b[0m",
      "\u001b[1;31mNameError\u001b[0m: name 'bb' is not defined"
     ]
    }
   ],
   "source": [
    "bb"
   ]
  },
  {
   "cell_type": "code",
   "execution_count": null,
   "metadata": {},
   "outputs": [],
   "source": [
    "df.head(5)"
   ]
  },
  {
   "cell_type": "markdown",
   "metadata": {},
   "source": [
    "Model"
   ]
  },
  {
   "cell_type": "code",
   "execution_count": null,
   "metadata": {},
   "outputs": [],
   "source": [
    "list(df.columns)"
   ]
  },
  {
   "cell_type": "markdown",
   "metadata": {},
   "source": [
    "Selecting features"
   ]
  },
  {
   "cell_type": "code",
   "execution_count": null,
   "metadata": {},
   "outputs": [],
   "source": [
    "feature_columns = ['Population',\n",
    " 'Children',\n",
    " 'Age',\n",
    " 'Income',\n",
    " 'VitD_levels',\n",
    " 'Doc_visits',\n",
    " 'Full_meals_eaten',\n",
    " 'vitD_supp',\n",
    " 'HighBlood',\n",
    " 'Stroke',\n",
    " 'Overweight',\n",
    " 'Arthritis',\n",
    " 'Diabetes',\n",
    " 'Hyperlipidemia',\n",
    " 'BackPain',\n",
    " 'Anxiety',\n",
    " 'Allergic_rhinitis',\n",
    " 'Reflux_esophagitis',\n",
    " 'Asthma',\n",
    " 'Initial_days',\n",
    " 'TotalCharge',\n",
    " 'Additional_charges',\n",
    "\n",
    " 'Area_Suburban',\n",
    " 'Area_Urban',\n",
    "\n",
    " 'Marital_Married',\n",
    " 'Marital_Never_Married',\n",
    " 'Marital_Separated',\n",
    " 'Marital_Widowed',\n",
    " \n",
    " 'Gender_Male',\n",
    " 'Gender_Nonbinary',\n",
    " 'Initial_admin_Emergency',\n",
    " 'Initial_admin_Observation',\n",
    " \n",
    " 'Complication_risk_Low',\n",
    " 'Complication_risk_Medium',\n",
    "\n",
    " 'Services_CT_Scan',\n",
    " 'Services_Intravenous',\n",
    " 'Services_MRI']\n",
    "\n",
    "\n",
    "#'Gender_Female',\n",
    "#'Complication_risk_High',\n",
    "# 'Area_Rural',\n",
    "# 'Marital_Divorced',\n",
    "# 'Services_Blood_Work',\n",
    "#\n",
    "#\n",
    "\n",
    "\n",
    "X = df[feature_columns]\n",
    "y = df.ReAdmis_Yes\n",
    "\n",
    "\n",
    "\n",
    "\n",
    "#  'Item1',\n",
    "#  'Item2',\n",
    "#  'Item3',\n",
    "#  'Item4',\n",
    "#  'Item5',\n",
    "#  'Item6',\n",
    "#  'Item7',\n",
    "#  'Item8',"
   ]
  },
  {
   "cell_type": "code",
   "execution_count": null,
   "metadata": {},
   "outputs": [],
   "source": [
    "X.shape"
   ]
  },
  {
   "cell_type": "code",
   "execution_count": null,
   "metadata": {},
   "outputs": [],
   "source": [
    "df['ReAdmis_Yes'].isnull().value_counts()"
   ]
  },
  {
   "cell_type": "markdown",
   "metadata": {},
   "source": [
    "Splitting Data"
   ]
  },
  {
   "cell_type": "code",
   "execution_count": null,
   "metadata": {},
   "outputs": [],
   "source": [
    "X_train,X_test,y_train,y_test=train_test_split(X,y,test_size=0.25,random_state=42)"
   ]
  },
  {
   "cell_type": "code",
   "execution_count": null,
   "metadata": {},
   "outputs": [],
   "source": [
    "#instantiate model\n",
    "log_regression = LogisticRegression(solver='liblinear', random_state=0, max_iter=10000)\n",
    "\n",
    "#fitting model\n",
    "log_regression.fit(X_train,y_train)\n",
    "\n",
    "#\n",
    "y_pred = log_regression.predict(X_test)"
   ]
  },
  {
   "cell_type": "code",
   "execution_count": null,
   "metadata": {},
   "outputs": [],
   "source": [
    "log_regression.score(X_train, y_train)"
   ]
  },
  {
   "cell_type": "code",
   "execution_count": null,
   "metadata": {},
   "outputs": [],
   "source": [
    "#log_regression.coef_[0]\n",
    "log_regression.coef_"
   ]
  },
  {
   "cell_type": "code",
   "execution_count": null,
   "metadata": {},
   "outputs": [],
   "source": [
    "coefficients = pd.concat([pd.DataFrame(X.columns),pd.DataFrame(np.transpose(log_regression.coef_))], axis = 1)\n",
    "coefficients.columns = ['features','coef']\n",
    "coefficients.sort_values(by=['coef'], ascending=False)\n",
    "print(coefficients.sort_values(by=['coef'], ascending=False))"
   ]
  },
  {
   "cell_type": "markdown",
   "metadata": {},
   "source": [
    "Confusion Matrix using HeatMap"
   ]
  },
  {
   "cell_type": "code",
   "execution_count": null,
   "metadata": {},
   "outputs": [],
   "source": [
    "# import the metrics class\n",
    "from sklearn import metrics\n",
    "cnf_matrix = metrics.confusion_matrix(y_test, y_pred)\n",
    "cnf_matrix"
   ]
  },
  {
   "cell_type": "code",
   "execution_count": null,
   "metadata": {},
   "outputs": [],
   "source": [
    "%matplotlib inline\n",
    "class_names=[0,1] # name  of classes\n",
    "fig, ax = plt.subplots()\n",
    "tick_marks = np.arange(len(class_names))\n",
    "plt.xticks(tick_marks, class_names)\n",
    "plt.yticks(tick_marks, class_names)\n",
    "# create heatmap\n",
    "sns.heatmap(pd.DataFrame(cnf_matrix), annot=True, cmap=\"YlGnBu\" ,fmt='g')\n",
    "ax.xaxis.set_label_position(\"top\")\n",
    "plt.tight_layout()\n",
    "plt.title('Confusion matrix', y=1.1)\n",
    "plt.ylabel('Actual label')\n",
    "plt.xlabel('Predicted label')"
   ]
  },
  {
   "cell_type": "markdown",
   "metadata": {},
   "source": [
    "Confusion matrix evaluation metrics"
   ]
  },
  {
   "cell_type": "code",
   "execution_count": null,
   "metadata": {},
   "outputs": [],
   "source": [
    "print(\"Accuracy:\",metrics.accuracy_score(y_test, y_pred))\n",
    "print(\"Precision:\",metrics.precision_score(y_test, y_pred, average='weighted'))\n",
    "print(\"Recall:\",metrics.recall_score(y_test, y_pred, average='weighted'))"
   ]
  },
  {
   "cell_type": "markdown",
   "metadata": {},
   "source": [
    "Statsmodel"
   ]
  },
  {
   "cell_type": "markdown",
   "metadata": {},
   "source": [
    " logistic regression in sklearn applies regularization by default whereas statsmodels does not. The models you’re comparing may not be identical."
   ]
  },
  {
   "cell_type": "code",
   "execution_count": null,
   "metadata": {},
   "outputs": [],
   "source": [
    "#df['ReAdmis']=df.ReAdmis.map(dict(Yes=1, No=0))\n",
    "log_stats = sm.Logit(y_train, X_train).fit(maxiter=100000)"
   ]
  },
  {
   "cell_type": "code",
   "execution_count": null,
   "metadata": {},
   "outputs": [],
   "source": [
    "log_stats.summary()"
   ]
  },
  {
   "cell_type": "code",
   "execution_count": null,
   "metadata": {},
   "outputs": [],
   "source": [
    "print(log_stats.summary())"
   ]
  },
  {
   "cell_type": "code",
   "execution_count": null,
   "metadata": {},
   "outputs": [],
   "source": []
  },
  {
   "cell_type": "code",
   "execution_count": null,
   "metadata": {},
   "outputs": [],
   "source": []
  },
  {
   "cell_type": "code",
   "execution_count": null,
   "metadata": {},
   "outputs": [],
   "source": []
  },
  {
   "cell_type": "code",
   "execution_count": null,
   "metadata": {},
   "outputs": [],
   "source": []
  },
  {
   "cell_type": "code",
   "execution_count": null,
   "metadata": {},
   "outputs": [],
   "source": []
  },
  {
   "cell_type": "code",
   "execution_count": null,
   "metadata": {},
   "outputs": [],
   "source": []
  },
  {
   "cell_type": "markdown",
   "metadata": {},
   "source": [
    "REDUCING MODEL"
   ]
  },
  {
   "cell_type": "markdown",
   "metadata": {},
   "source": [
    "Selecting features based on the P-values that are less than .05"
   ]
  },
  {
   "cell_type": "markdown",
   "metadata": {},
   "source": [
    "RFE feature selection\n",
    "https://scikit-learn.org/stable/modules/generated/sklearn.feature_selection.RFE.html"
   ]
  },
  {
   "cell_type": "code",
   "execution_count": null,
   "metadata": {},
   "outputs": [],
   "source": [
    " from sklearn.feature_selection import RFE\n",
    " predictors = X_train\n",
    " selector = RFE(log_regression, n_features_to_select= 1)\n",
    " selector = selector.fit(predictors, y_train);"
   ]
  },
  {
   "cell_type": "code",
   "execution_count": null,
   "metadata": {},
   "outputs": [],
   "source": [
    "X.shape"
   ]
  },
  {
   "cell_type": "code",
   "execution_count": null,
   "metadata": {},
   "outputs": [],
   "source": [
    " order = selector.ranking_\n",
    " order"
   ]
  },
  {
   "cell_type": "code",
   "execution_count": null,
   "metadata": {},
   "outputs": [],
   "source": [
    " feature_ranks = []\n",
    " for i in order:\n",
    "     feature_ranks.append(f\"{i}. {X_train.columns[i-1]}\")\n",
    " feature_ranks"
   ]
  },
  {
   "cell_type": "code",
   "execution_count": null,
   "metadata": {},
   "outputs": [],
   "source": [
    "top10 = [ '1. Population',\n",
    " '2. Children',\n",
    " '3. Age',\n",
    " '4. Income',\n",
    " '5. VitD_levels',\n",
    " '6. Doc_visits',\n",
    " '7. Full_meals_eaten',\n",
    " '8. vitD_supp',\n",
    " '9. HighBlood'\n",
    " '10. Stroke'\n",
    "'11. Overweight',\n",
    "'12. Arthritis',\n",
    "'13. Diabetes',\n",
    "'14. Hyperlipidemia',\n",
    "'15. BackPain', \n",
    " '16. Anxiety',\n",
    "'17. Allergic_rhinitis',\n",
    " '18. Reflux_esophagitis',\n",
    " '19. Asthma']"
   ]
  },
  {
   "cell_type": "code",
   "execution_count": null,
   "metadata": {},
   "outputs": [],
   "source": []
  },
  {
   "cell_type": "code",
   "execution_count": null,
   "metadata": {},
   "outputs": [],
   "source": [
    "from sklearn.svm import LinearSVC\n",
    "from sklearn.feature_selection import SelectFromModel\n",
    "X.shape"
   ]
  },
  {
   "cell_type": "code",
   "execution_count": null,
   "metadata": {},
   "outputs": [],
   "source": [
    "lsvc = LinearSVC(C=0.01, penalty=\"l1\", dual=False).fit(X, y)\n",
    "model = SelectFromModel(lsvc, prefit=True)\n",
    "X_new = model.transform(X)\n",
    "X_new.shape\n",
    "#With SVMs and logistic-regression, the parameter C controls\n",
    "#the sparsity: the smaller C the fewer features selected"
   ]
  },
  {
   "cell_type": "code",
   "execution_count": null,
   "metadata": {},
   "outputs": [],
   "source": [
    "print(X_new)"
   ]
  },
  {
   "cell_type": "code",
   "execution_count": null,
   "metadata": {},
   "outputs": [],
   "source": [
    "print(type(X_new))\n"
   ]
  },
  {
   "cell_type": "markdown",
   "metadata": {},
   "source": [
    "Linear Support Vector Classification.\n",
    "\n",
    "Similar to SVC with parameter kernel=’linear’, but implemented in terms of liblinear rather than libsvm, so it has more flexibility in the choice of penalties and loss functions and should scale better to large numbers of samples.\n",
    "\n",
    "This class supports both dense and sparse input and the multiclass support is handled according to a one-vs-the-rest scheme.\n",
    "\n",
    "Linear models penalized with the L1 norm have sparse solutions: many of their estimated coefficients are zero. When the goal is to reduce the dimensionality of the data to use with another classifier, they can be used along with SelectFromModel to select the non-zero coefficients. In particular, sparse estimators useful for this purpose are the Lasso for regression, and of LogisticRegression and LinearSVC for classification:\n",
    "\n",
    "L1-recovery and compressive sensing\n",
    "\n",
    "For a good choice of alpha, the Lasso can fully recover the exact set of non-zero variables using only few observations, provided certain specific conditions are met. In particular, the number of samples should be “sufficiently large”, or L1 models will perform at random, where “sufficiently large” depends on the number of non-zero coefficients, the logarithm of the number of features, the amount of noise, the smallest absolute value of non-zero coefficients, and the structure of the design matrix X. In addition, the design matrix must display certain specific properties, such as not being too correlated.\n",
    "\n",
    "There is no general rule to select an alpha parameter for recovery of non-zero coefficients. It can by set by cross-validation (LassoCV or LassoLarsCV), though this may lead to under-penalized models: including a small number of non-relevant variables is not detrimental to prediction score. BIC (LassoLarsIC) tends, on the opposite, to set high values of alpha."
   ]
  },
  {
   "cell_type": "markdown",
   "metadata": {},
   "source": [
    "New model using RFE variables choosen\n",
    "\n"
   ]
  },
  {
   "cell_type": "code",
   "execution_count": null,
   "metadata": {},
   "outputs": [],
   "source": [
    "top15 = [ 'Population',\n",
    " 'Children',\n",
    " 'Age',\n",
    " 'Income',\n",
    " 'VitD_levels',\n",
    " 'Doc_visits',\n",
    " 'Full_meals_eaten',\n",
    " 'vitD_supp',\n",
    " 'HighBlood',\n",
    " 'Stroke',\n",
    "'Overweight',\n",
    "'Arthritis',\n",
    "'Diabetes',\n",
    "'Hyperlipidemia',\n",
    "'BackPain' ]\n",
    "\n",
    "#according to RFE"
   ]
  },
  {
   "cell_type": "code",
   "execution_count": null,
   "metadata": {},
   "outputs": [],
   "source": [
    "#reduced = ['Doc_visits','Children','Initial_admin_Observation','Overweight','vitD_supp','VitD_levels','Area_Urban','Gender_Nonbinary','Area_Suburban','Full_meals_eaten','Marital_Married','Additional_charges','Marital_Never_Married','Age','Income','Services_Intravenous','Marital_Widowed','Marital_Separated','Gender_Male']\n",
    "#reduced = X\n",
    "\n",
    "#reduced.drop(['Services_Intravenous'], axis=1, inplace=True)\n",
    "#reduced.drop([b'Income'], axis=1, inplace=True)\n",
    "#reduced.drop(['Children'], axis=1, inplace=True)\n",
    "# #reduced = pd.Dataframe(X.drop[['Services_Intravenous', 'Income', 'Children']])"
   ]
  },
  {
   "cell_type": "code",
   "execution_count": null,
   "metadata": {},
   "outputs": [],
   "source": [
    "re = X[['Initial_admin_Emergency','HighBlood','Initial_days',\n",
    "        'Hyperlipidemia','BackPain','Diabetes','Anxiety',\n",
    "        'Allergic_rhinitis','TotalCharge','Complication_risk_Medium',\n",
    "        'Complication_risk_Low','Asthma','Services_MRI','Arthritis',\n",
    "        'Services_CT_Scan','Reflux_esophagitis','Stroke','Population']]"
   ]
  },
  {
   "cell_type": "code",
   "execution_count": null,
   "metadata": {},
   "outputs": [],
   "source": [
    "re.columns\n",
    "re.shape"
   ]
  },
  {
   "cell_type": "code",
   "execution_count": null,
   "metadata": {},
   "outputs": [],
   "source": [
    "# X = df[reduced]\n",
    "# X.shape"
   ]
  },
  {
   "cell_type": "markdown",
   "metadata": {},
   "source": [
    "Reduced using variables with P value higher than .05"
   ]
  },
  {
   "cell_type": "code",
   "execution_count": null,
   "metadata": {},
   "outputs": [],
   "source": [
    "X_train,X_test,y_train,y_test=train_test_split(re,y,test_size=0.25,random_state=43)"
   ]
  },
  {
   "cell_type": "code",
   "execution_count": null,
   "metadata": {},
   "outputs": [],
   "source": [
    "# #instantiate model\n",
    "\n",
    "log_stat = LogisticRegression(solver='liblinear', random_state=0,max_iter=100000)\n",
    "\n",
    "# # max_iter=10000\n",
    "\n",
    "\n",
    "# #fitting model\n",
    "log_stat.fit(X_train,y_train)\n",
    "\n",
    "#\n",
    "y_pred = log_stat.predict(X_test)"
   ]
  },
  {
   "cell_type": "code",
   "execution_count": null,
   "metadata": {},
   "outputs": [],
   "source": [
    "log_stat.score(X_train, y_train)"
   ]
  },
  {
   "cell_type": "code",
   "execution_count": null,
   "metadata": {},
   "outputs": [],
   "source": [
    "#log_regression.coef_[0]\n",
    "log_stat.coef_"
   ]
  },
  {
   "cell_type": "code",
   "execution_count": null,
   "metadata": {},
   "outputs": [],
   "source": [
    "coefficients = pd.concat([pd.DataFrame(re.columns),pd.DataFrame(np.transpose(log_stat.coef_))], axis = 1)\n",
    "coefficients.columns = ['features','coef']\n",
    "coefficients.sort_values(by=['coef'], ascending=False)\n",
    "print(coefficients.sort_values(by=['coef'], ascending=False))"
   ]
  },
  {
   "cell_type": "code",
   "execution_count": null,
   "metadata": {},
   "outputs": [],
   "source": [
    "cnf_matrix = metrics.confusion_matrix(y_test, y_pred)\n",
    "cnf_matrix"
   ]
  },
  {
   "cell_type": "code",
   "execution_count": null,
   "metadata": {},
   "outputs": [],
   "source": [
    "%matplotlib inline\n",
    "class_names=[0,1] # name  of classes\n",
    "fig, ax = plt.subplots()\n",
    "tick_marks = np.arange(len(class_names))\n",
    "plt.xticks(tick_marks, class_names)\n",
    "plt.yticks(tick_marks, class_names)\n",
    "# create heatmap\n",
    "sns.heatmap(pd.DataFrame(cnf_matrix), annot=True, cmap=\"YlGnBu\" ,fmt='g')\n",
    "ax.xaxis.set_label_position(\"top\")\n",
    "plt.tight_layout()\n",
    "plt.title('Confusion matrix', y=1.1)\n",
    "plt.ylabel('Actual label')\n",
    "plt.xlabel('Predicted label')"
   ]
  },
  {
   "cell_type": "code",
   "execution_count": null,
   "metadata": {},
   "outputs": [],
   "source": [
    "print(\"Accuracy:\",metrics.accuracy_score(y_test, y_pred))\n",
    "print(\"Precision:\",metrics.precision_score(y_test, y_pred, average='weighted'))\n",
    "print(\"Recall:\",metrics.recall_score(y_test, y_pred, average='weighted'))"
   ]
  },
  {
   "cell_type": "code",
   "execution_count": null,
   "metadata": {},
   "outputs": [],
   "source": []
  },
  {
   "cell_type": "code",
   "execution_count": null,
   "metadata": {},
   "outputs": [],
   "source": []
  },
  {
   "cell_type": "code",
   "execution_count": null,
   "metadata": {},
   "outputs": [],
   "source": []
  },
  {
   "cell_type": "code",
   "execution_count": null,
   "metadata": {},
   "outputs": [],
   "source": []
  }
 ],
 "metadata": {
  "kernelspec": {
   "display_name": "Python 3",
   "language": "python",
   "name": "python3"
  },
  "language_info": {
   "codemirror_mode": {
    "name": "ipython",
    "version": 3
   },
   "file_extension": ".py",
   "mimetype": "text/x-python",
   "name": "python",
   "nbconvert_exporter": "python",
   "pygments_lexer": "ipython3",
   "version": "3.8.3"
  }
 },
 "nbformat": 4,
 "nbformat_minor": 4
}
